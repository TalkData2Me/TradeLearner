{
 "metadata": {
  "name": "",
  "signature": "sha256:ddb54d9bd38438532dcf63d313a640d53ce260dbdc5f0293d290d9daa38d7e98"
 },
 "nbformat": 3,
 "nbformat_minor": 0,
 "worksheets": [
  {
   "cells": [
    {
     "cell_type": "code",
     "collapsed": false,
     "input": [
      "from matplotlib.finance import quotes_historical_yahoo\n",
      "import sqlite3\n",
      "import datetime\n",
      "import os\n",
      "import pandas\n",
      "import numpy\n",
      "import math\n",
      "from sklearn.decomposition import PCA"
     ],
     "language": "python",
     "metadata": {},
     "outputs": [],
     "prompt_number": 14
    },
    {
     "cell_type": "code",
     "collapsed": false,
     "input": [
      "threshold = 0.01        # threshold value to determine which stocks to pass from classification to regression\n",
      "pred_horiz = 5          # prediction horizon in trading days\n",
      "\n",
      "date1 = datetime.datetime(2009,1,1)  # start date of price history\n",
      "date2 = datetime.datetime.now()      # end date of price history"
     ],
     "language": "python",
     "metadata": {},
     "outputs": [],
     "prompt_number": 15
    },
    {
     "cell_type": "code",
     "collapsed": false,
     "input": [
      "stocks = {'data':[('CVY','Domestic'),('DEF','Domestic'),('EWRS','Domestic'),('FNDA','Domestic'),('FNDB','Domestic'),('FNDX','Domestic'),('MDYG','Domestic'),('MDYV','Domestic'),('RSP','Domestic'),('SCHA','Domestic'),('SCHB','Domestic'),('SCHD','Domestic'),('SCHG','Domestic'),('SCHM','Domestic'),('SCHV','Domestic'),('SCHX','Domestic'),('SLYG','Domestic'),('SLYV','Domestic'),('SPHB','Domestic'),('SPLV','Domestic'),('XLG','Domestic'),\n",
      "                  ('ACIM','International'),('CWI','International'),('DWX','International'),('EDIV','International'),('EEB','International'),('EELV','International'),('EWEM','International'),('EWX','International'),('FEU','International'),('FNDC','International'),('FNDE','International'),('FNDF','International'),('FRN','International'),('GAF','International'),('GAL','International'),('GMF','International'),('GML','International'),('HAO','International'),('HGI','International'),('IDLV','International'),('INKM','International'),('JPP','International'),('MDD','International'),('PIN','International'),('RLY','International'),('SCHC','International'),('SCHE','International'),('SCHF','International'),('WDIV','International'),('YAO','International'),\n",
      "                  ('BKLN','Bond'),('BSCE','Bond'),('BSCF','Bond'),('BSCG','Bond'),('BSCH','Bond'),('BSCI','Bond'),('BSCJ','Bond'),('BSCK','Bond'),('BSCL','Bond'),('BSCM','Bond'),('BSJE','Bond'),('BSJF','Bond'),('BSJG','Bond'),('BSJH','Bond'),('BSJI','Bond'),('BSJJ','Bond'),('BSJK','Bond'),('BWX','Bond'),('BWZ','Bond'),('CBND','Bond'),('CWB','Bond'),('DSUM','Bond'),('EBND','Bond'),('EMCD','Bond'),('HYMB','Bond'),('IBND','Bond'),('PCY','Bond'),('PHB','Bond'),('PWZ','Bond'),('PZT','Bond'),('SCHO','Bond'),('SCHP','Bond'),('SCHR','Bond'),('SCHZ','Bond'),('SHM','Bond'),('TFI','Bond'),('TLO','Bond')],\n",
      "          'headers':('ticker', 'tag')}"
     ],
     "language": "python",
     "metadata": {},
     "outputs": [],
     "prompt_number": 16
    },
    {
     "cell_type": "code",
     "collapsed": false,
     "input": [
      "path = os.path.expanduser('~') + '/Documents/StockPredictions/'\n",
      "db = path + 'SQLite/assetprices.sqlite'\n",
      "\n",
      "execfile(\"/Users/Damian/Documents/StockPredictions/PythonFunctions/DataToSQLite.py\")\n",
      "\n",
      "remove_existing_db(path=db)\n",
      "build_database(db=db, assets=stocks, start=date1, end=date2)\n"
     ],
     "language": "python",
     "metadata": {},
     "outputs": [
      {
       "output_type": "stream",
       "stream": "stdout",
       "text": [
        "old db removed\n"
       ]
      }
     ],
     "prompt_number": 28
    },
    {
     "cell_type": "code",
     "collapsed": false,
     "input": [
      "path = os.path.expanduser('~') + '/Documents/StockPredictions/'\n",
      "db = path + 'SQLite/assetprices.sqlite'\n",
      "\n",
      "con = sqlite3.connect(db)\n",
      "c = con.cursor()\n"
     ],
     "language": "python",
     "metadata": {},
     "outputs": [],
     "prompt_number": 29
    },
    {
     "cell_type": "heading",
     "level": 2,
     "metadata": {},
     "source": [
      "Begin FOR loop"
     ]
    },
    {
     "cell_type": "code",
     "collapsed": false,
     "input": [
      "c.execute(\"SELECT b.tag, b.ticker, a.*      \\\n",
      "          FROM prices a                     \\\n",
      "          left outer join                   \\\n",
      "          assets b                          \\\n",
      "          on a.asset_id = b.asset_id\"       \\\n",
      "          where b.ticker = 'CVY')\n",
      "prices_list = c.fetchall()"
     ],
     "language": "python",
     "metadata": {},
     "outputs": []
    }
   ],
   "metadata": {}
  }
 ]
}