{
 "metadata": {
  "name": "",
  "signature": "sha256:2c8f747aa3ccc5cab94ccaa76e7b86e6797a4ddc511daeccb9c9ffc0f70206de"
 },
 "nbformat": 3,
 "nbformat_minor": 0,
 "worksheets": [
  {
   "cells": [
    {
     "cell_type": "heading",
     "level": 1,
     "metadata": {},
     "source": [
      "GetData"
     ]
    },
    {
     "cell_type": "heading",
     "level": 2,
     "metadata": {},
     "source": [
      "Initialize"
     ]
    },
    {
     "cell_type": "heading",
     "level": 6,
     "metadata": {},
     "source": [
      "Import modules"
     ]
    },
    {
     "cell_type": "code",
     "collapsed": false,
     "input": [
      "from matplotlib.finance import quotes_historical_yahoo\n",
      "import sqlite3\n",
      "import datetime\n",
      "import time"
     ],
     "language": "python",
     "metadata": {},
     "outputs": [],
     "prompt_number": 1
    },
    {
     "cell_type": "heading",
     "level": 6,
     "metadata": {},
     "source": [
      "Set lists"
     ]
    },
    {
     "cell_type": "code",
     "collapsed": false,
     "input": [
      "domestic = ['CVY','DEF','EWRS','FNDA','FNDB','FNDX','MDYG','MDYV','RSP','SCHA','SCHB','SCHD','SCHG','SCHM','SCHV','SCHX','SLYG','SLYV','SPHB','SPLV','XLG']\n",
      "international = ['ACIM','CWI','DWX','EDIV','EEB','EELV','EWEM','EWX','FEU','FNDC','FNDE','FNDF','FRN','GAF','GAL','GMF','GML','HAO','HGI','IDLV','INKM','JPP','MDD','PIN','RLY','SCHC','SCHE','SCHF','WDIV','YAO']\n",
      "# ATTN: Still need to add other lists"
     ],
     "language": "python",
     "metadata": {},
     "outputs": [],
     "prompt_number": 2
    },
    {
     "cell_type": "heading",
     "level": 6,
     "metadata": {},
     "source": [
      "Set date variables"
     ]
    },
    {
     "cell_type": "code",
     "collapsed": false,
     "input": [
      "i = datetime.datetime.now()\n",
      "\n",
      "start_date = datetime.datetime(2009, 1, 1)\n",
      "end_date = datetime.datetime(i.year, i.month, i.day)\n"
     ],
     "language": "python",
     "metadata": {},
     "outputs": [],
     "prompt_number": 3
    },
    {
     "cell_type": "code",
     "collapsed": false,
     "input": [
      "domestic_data=[]\n",
      "#summedlen = 0\n",
      "for symbol in domestic:\n",
      "    newdata = quotes_historical_yahoo(symbol, start_date, end_date)\n",
      "#    summedlen = summedlen + len(newdata)\n",
      "    \n",
      "    for record in range(len(newdata)):\n",
      "        newdata[record] = (symbol,)+newdata[record]                     #add symbol to data list\n",
      "        \n",
      "    domestic_data = list(set(domestic_data) | set(newdata))             #append new data to existing\n",
      "    domestic_data.sort(key=lambda date: date[1])\n",
      "    domestic_data.sort(key=lambda sym: sym[0])\n",
      "\n",
      "#print summedlen\n",
      "#print len(domestic_data)\n",
      "#print newdata[0:2]\n",
      "#print domestic_data[0:5]"
     ],
     "language": "python",
     "metadata": {},
     "outputs": [],
     "prompt_number": 4
    },
    {
     "cell_type": "code",
     "collapsed": false,
     "input": [],
     "language": "python",
     "metadata": {},
     "outputs": []
    }
   ],
   "metadata": {}
  }
 ]
}