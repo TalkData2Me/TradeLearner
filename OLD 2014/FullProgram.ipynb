{
 "metadata": {
  "name": "",
  "signature": "sha256:1dc456dc15a297cdde8b9d4622ccc30e7cecbd555d9b5f526fb610f55d48d713"
 },
 "nbformat": 3,
 "nbformat_minor": 0,
 "worksheets": [
  {
   "cells": [
    {
     "cell_type": "heading",
     "level": 1,
     "metadata": {},
     "source": [
      "Setup"
     ]
    },
    {
     "cell_type": "heading",
     "level": 3,
     "metadata": {},
     "source": [
      "Import Modules"
     ]
    },
    {
     "cell_type": "code",
     "collapsed": false,
     "input": [
      "from matplotlib.finance import quotes_historical_yahoo\n",
      "import sqlite3\n",
      "import datetime\n",
      "import os\n",
      "import pandas\n",
      "import numpy\n",
      "import math\n",
      "from sklearn.decomposition import PCA"
     ],
     "language": "python",
     "metadata": {},
     "outputs": [],
     "prompt_number": 1
    },
    {
     "cell_type": "heading",
     "level": 3,
     "metadata": {},
     "source": [
      "Set Variables"
     ]
    },
    {
     "cell_type": "code",
     "collapsed": false,
     "input": [
      "threshold = 0.01        # threshold value to determine which stocks to pass from classification to regression\n",
      "pred_horiz = 5          # prediction horizon in trading days\n",
      "\n",
      "date1 = datetime.datetime(2009,1,1)  # start date of price history\n",
      "date2 = datetime.datetime.now()      # end date of price history"
     ],
     "language": "python",
     "metadata": {},
     "outputs": [],
     "prompt_number": 2
    },
    {
     "cell_type": "heading",
     "level": 3,
     "metadata": {},
     "source": [
      "Define Assets"
     ]
    },
    {
     "cell_type": "code",
     "collapsed": false,
     "input": [
      "stocks = {'data':[('CVY','Domestic'),('DEF','Domestic'),('ACIM','International'),('BKLN','Bond')],'headers':('ticker', 'tag')}\n",
      "\n",
      "#stocks = {'data':[('CVY','Domestic'),('DEF','Domestic'),('EWRS','Domestic'),('FNDA','Domestic'),('FNDB','Domestic'),('FNDX','Domestic'),('MDYG','Domestic'),('MDYV','Domestic'),('RSP','Domestic'),('SCHA','Domestic'),('SCHB','Domestic'),('SCHD','Domestic'),('SCHG','Domestic'),('SCHM','Domestic'),('SCHV','Domestic'),('SCHX','Domestic'),('SLYG','Domestic'),('SLYV','Domestic'),('SPHB','Domestic'),('SPLV','Domestic'),('XLG','Domestic'),\n",
      "#                  ('ACIM','International'),('CWI','International'),('DWX','International'),('EDIV','International'),('EEB','International'),('EELV','International'),('EWEM','International'),('EWX','International'),('FEU','International'),('FNDC','International'),('FNDE','International'),('FNDF','International'),('FRN','International'),('GAF','International'),('GAL','International'),('GMF','International'),('GML','International'),('HAO','International'),('HGI','International'),('IDLV','International'),('INKM','International'),('JPP','International'),('MDD','International'),('PIN','International'),('RLY','International'),('SCHC','International'),('SCHE','International'),('SCHF','International'),('WDIV','International'),('YAO','International'),\n",
      "#                  ('BKLN','Bond'),('BSCE','Bond'),('BSCF','Bond'),('BSCG','Bond'),('BSCH','Bond'),('BSCI','Bond'),('BSCJ','Bond'),('BSCK','Bond'),('BSCL','Bond'),('BSCM','Bond'),('BSJE','Bond'),('BSJF','Bond'),('BSJG','Bond'),('BSJH','Bond'),('BSJI','Bond'),('BSJJ','Bond'),('BSJK','Bond'),('BWX','Bond'),('BWZ','Bond'),('CBND','Bond'),('CWB','Bond'),('DSUM','Bond'),('EBND','Bond'),('EMCD','Bond'),('HYMB','Bond'),('IBND','Bond'),('PCY','Bond'),('PHB','Bond'),('PWZ','Bond'),('PZT','Bond'),('SCHO','Bond'),('SCHP','Bond'),('SCHR','Bond'),('SCHZ','Bond'),('SHM','Bond'),('TFI','Bond'),('TLO','Bond')],\n",
      "#          'headers':('ticker', 'tag')}\n"
     ],
     "language": "python",
     "metadata": {},
     "outputs": [],
     "prompt_number": 3
    },
    {
     "cell_type": "heading",
     "level": 1,
     "metadata": {},
     "source": [
      " "
     ]
    },
    {
     "cell_type": "heading",
     "level": 1,
     "metadata": {},
     "source": [
      "Get and Store Basic Data"
     ]
    },
    {
     "cell_type": "heading",
     "level": 6,
     "metadata": {},
     "source": [
      "Source: http://financialpython.wordpress.com/2009/08/05/use-python-and-sqlite3-to-build-a-database/\n",
      "\n",
      "YahooSqlite.py\n",
      "\u00a0\n",
      "This module pulls stock price history for designated tickers using matplotlib.\n",
      "Matplotlib.finance returns a tuple (d, open, close, high, low, volume).\n",
      "\u00a0\n",
      "The functions below write data to a sqlite database using the sqlite3 module."
     ]
    },
    {
     "cell_type": "code",
     "collapsed": false,
     "input": [
      "path = os.path.expanduser('~') + '/Documents/StockPredictions/'\n",
      "db = path + 'SQLite/assetprices.sqlite'\n",
      "\n",
      "execfile(\"/Users/Damian/Documents/StockPredictions/PythonFunctions/DataToSQLite.py\")\n",
      "\n",
      "remove_existing_db(path=db)\n",
      "build_database(db=db, assets=stocks, start=date1, end=date2)\n"
     ],
     "language": "python",
     "metadata": {},
     "outputs": [
      {
       "output_type": "stream",
       "stream": "stdout",
       "text": [
        "old db removed\n"
       ]
      }
     ],
     "prompt_number": 4
    },
    {
     "cell_type": "heading",
     "level": 1,
     "metadata": {},
     "source": [
      "\n",
      "\n",
      "\n",
      "\n"
     ]
    },
    {
     "cell_type": "heading",
     "level": 1,
     "metadata": {},
     "source": [
      "Expand Data"
     ]
    },
    {
     "cell_type": "heading",
     "level": 3,
     "metadata": {},
     "source": [
      "SQLite to Pandas DataFrame"
     ]
    },
    {
     "cell_type": "code",
     "collapsed": false,
     "input": [
      "path = os.path.expanduser('~') + '/Documents/StockPredictions/'\n",
      "db = path + 'SQLite/assetprices.sqlite'\n",
      "\n",
      "con = sqlite3.connect(db)\n",
      "c = con.cursor()\n",
      "\n",
      "c.execute(\"SELECT b.tag, b.ticker, a.*      \\\n",
      "          FROM prices a                     \\\n",
      "          left outer join                   \\\n",
      "          assets b                          \\\n",
      "          on a.asset_id = b.asset_id\")\n",
      "prices_list = c.fetchall()"
     ],
     "language": "python",
     "metadata": {},
     "outputs": [],
     "prompt_number": 5
    },
    {
     "cell_type": "code",
     "collapsed": false,
     "input": [
      "col_list = ('tag', 'ticker', 'price_id', 'asset_id', 'gregorian_day', 'date_string', 'year', 'month', 'day', 'open', 'close', 'high', 'low', 'volume')  # ALERT: edit this list as appropriate\n",
      "df = pandas.DataFrame(prices_list, columns=col_list)\n",
      "\n",
      "df['volume'] = df['volume'].astype(float)\n",
      "\n",
      "#df['openclose'] = df['open']*df['close']\n",
      "df.head(5)"
     ],
     "language": "python",
     "metadata": {},
     "outputs": [
      {
       "html": [
        "<div style=\"max-height:1000px;max-width:1500px;overflow:auto;\">\n",
        "<table border=\"1\" class=\"dataframe\">\n",
        "  <thead>\n",
        "    <tr style=\"text-align: right;\">\n",
        "      <th></th>\n",
        "      <th>tag</th>\n",
        "      <th>ticker</th>\n",
        "      <th>price_id</th>\n",
        "      <th>asset_id</th>\n",
        "      <th>gregorian_day</th>\n",
        "      <th>date_string</th>\n",
        "      <th>year</th>\n",
        "      <th>month</th>\n",
        "      <th>day</th>\n",
        "      <th>open</th>\n",
        "      <th>close</th>\n",
        "      <th>high</th>\n",
        "      <th>low</th>\n",
        "      <th>volume</th>\n",
        "    </tr>\n",
        "  </thead>\n",
        "  <tbody>\n",
        "    <tr>\n",
        "      <th>0</th>\n",
        "      <td> Domestic</td>\n",
        "      <td> CVY</td>\n",
        "      <td> 1</td>\n",
        "      <td> 1</td>\n",
        "      <td> 733409</td>\n",
        "      <td> 2009-1-2</td>\n",
        "      <td> 2009</td>\n",
        "      <td> 1</td>\n",
        "      <td> 2</td>\n",
        "      <td>  9.442523</td>\n",
        "      <td>  9.73</td>\n",
        "      <td>  9.744742</td>\n",
        "      <td> 9.361439</td>\n",
        "      <td> 24600</td>\n",
        "    </tr>\n",
        "    <tr>\n",
        "      <th>1</th>\n",
        "      <td> Domestic</td>\n",
        "      <td> CVY</td>\n",
        "      <td> 2</td>\n",
        "      <td> 1</td>\n",
        "      <td> 733412</td>\n",
        "      <td> 2009-1-5</td>\n",
        "      <td> 2009</td>\n",
        "      <td> 1</td>\n",
        "      <td> 5</td>\n",
        "      <td>  9.674216</td>\n",
        "      <td>  9.77</td>\n",
        "      <td>  9.895256</td>\n",
        "      <td> 9.578431</td>\n",
        "      <td> 35200</td>\n",
        "    </tr>\n",
        "    <tr>\n",
        "      <th>2</th>\n",
        "      <td> Domestic</td>\n",
        "      <td> CVY</td>\n",
        "      <td> 3</td>\n",
        "      <td> 1</td>\n",
        "      <td> 733413</td>\n",
        "      <td> 2009-1-6</td>\n",
        "      <td> 2009</td>\n",
        "      <td> 1</td>\n",
        "      <td> 6</td>\n",
        "      <td>  9.797440</td>\n",
        "      <td> 10.07</td>\n",
        "      <td> 10.158398</td>\n",
        "      <td> 9.797440</td>\n",
        "      <td> 98000</td>\n",
        "    </tr>\n",
        "    <tr>\n",
        "      <th>3</th>\n",
        "      <td> Domestic</td>\n",
        "      <td> CVY</td>\n",
        "      <td> 4</td>\n",
        "      <td> 1</td>\n",
        "      <td> 733414</td>\n",
        "      <td> 2009-1-7</td>\n",
        "      <td> 2009</td>\n",
        "      <td> 1</td>\n",
        "      <td> 7</td>\n",
        "      <td> 10.024070</td>\n",
        "      <td>  9.70</td>\n",
        "      <td> 10.156644</td>\n",
        "      <td> 9.677904</td>\n",
        "      <td> 22400</td>\n",
        "    </tr>\n",
        "    <tr>\n",
        "      <th>4</th>\n",
        "      <td> Domestic</td>\n",
        "      <td> CVY</td>\n",
        "      <td> 5</td>\n",
        "      <td> 1</td>\n",
        "      <td> 733415</td>\n",
        "      <td> 2009-1-8</td>\n",
        "      <td> 2009</td>\n",
        "      <td> 1</td>\n",
        "      <td> 8</td>\n",
        "      <td>  9.676304</td>\n",
        "      <td>  9.75</td>\n",
        "      <td>  9.794218</td>\n",
        "      <td> 9.602608</td>\n",
        "      <td> 20300</td>\n",
        "    </tr>\n",
        "  </tbody>\n",
        "</table>\n",
        "</div>"
       ],
       "metadata": {},
       "output_type": "pyout",
       "prompt_number": 6,
       "text": [
        "        tag ticker  price_id  asset_id  gregorian_day date_string  year  \\\n",
        "0  Domestic    CVY         1         1         733409    2009-1-2  2009   \n",
        "1  Domestic    CVY         2         1         733412    2009-1-5  2009   \n",
        "2  Domestic    CVY         3         1         733413    2009-1-6  2009   \n",
        "3  Domestic    CVY         4         1         733414    2009-1-7  2009   \n",
        "4  Domestic    CVY         5         1         733415    2009-1-8  2009   \n",
        "\n",
        "   month  day       open  close       high       low  volume  \n",
        "0      1    2   9.442523   9.73   9.744742  9.361439   24600  \n",
        "1      1    5   9.674216   9.77   9.895256  9.578431   35200  \n",
        "2      1    6   9.797440  10.07  10.158398  9.797440   98000  \n",
        "3      1    7  10.024070   9.70  10.156644  9.677904   22400  \n",
        "4      1    8   9.676304   9.75   9.794218  9.602608   20300  "
       ]
      }
     ],
     "prompt_number": 6
    },
    {
     "cell_type": "heading",
     "level": 3,
     "metadata": {},
     "source": [
      "Window Data, Add Interactions, and Expand with Functions -- Using PCA between"
     ]
    },
    {
     "cell_type": "code",
     "collapsed": false,
     "input": [
      "prior_days = (1,int(round(pred_horiz/2,0)),pred_horiz,2*pred_horiz,3*pred_horiz,4*pred_horiz,5*pred_horiz)\n",
      "\n",
      "execfile(\"/Users/Damian/Documents/StockPredictions/PythonFunctions/WindowExpandDF.py\")\n",
      "execfile(\"/Users/Damian/Documents/StockPredictions/PythonFunctions/PCA_floats.py\")\n",
      "execfile(\"/Users/Damian/Documents/StockPredictions/PythonFunctions/normalize.py\")\n",
      "\n",
      "print 'Original data size: ' + str(df.shape)\n",
      "df = window_data(df=df, prior_days=prior_days)\n",
      "#df = PCA_floats(df=df,n_comps='mle',whiten=True)\n",
      "df = add_interactions(df=df)\n",
      "#df = PCA_floats(df=df,n_comps='mle',whiten=True)\n",
      "df = expnd_w_fctns(df=df)\n",
      "df = normalize(df=df,minimum=-100,maximum=100)\n",
      "df = PCA_floats(df=df,n_comps=None,whiten=True)\n",
      "df = normalize(df=df,minimum=-100,maximum=100)\n",
      "print 'Final data size: ' + str(df.shape)\n",
      "df.head(3)"
     ],
     "language": "python",
     "metadata": {},
     "outputs": [
      {
       "output_type": "stream",
       "stream": "stdout",
       "text": [
        "Original data size: (4289, 14)\n",
        "Original data size: (2913, 8010)"
       ]
      },
      {
       "output_type": "stream",
       "stream": "stdout",
       "text": [
        "\n",
        "PCA data size: (2641, 2923)"
       ]
      },
      {
       "output_type": "stream",
       "stream": "stdout",
       "text": [
        "\n",
        "Final data size: (2466, 2923)"
       ]
      },
      {
       "output_type": "stream",
       "stream": "stdout",
       "text": [
        "\n"
       ]
      },
      {
       "html": [
        "<div style=\"max-height:1000px;max-width:1500px;overflow:auto;\">\n",
        "<table border=\"1\" class=\"dataframe\">\n",
        "  <thead>\n",
        "    <tr style=\"text-align: right;\">\n",
        "      <th></th>\n",
        "      <th>tag</th>\n",
        "      <th>ticker</th>\n",
        "      <th>price_id</th>\n",
        "      <th>asset_id</th>\n",
        "      <th>gregorian_day</th>\n",
        "      <th>date_string</th>\n",
        "      <th>year</th>\n",
        "      <th>month</th>\n",
        "      <th>day</th>\n",
        "      <th>index</th>\n",
        "      <th>...</th>\n",
        "      <th>TwoNineZeroThree</th>\n",
        "      <th>TwoNineZeroFour</th>\n",
        "      <th>TwoNineZeroFive</th>\n",
        "      <th>TwoNineZeroSix</th>\n",
        "      <th>TwoNineZeroSeven</th>\n",
        "      <th>TwoNineZeroEight</th>\n",
        "      <th>TwoNineZeroNine</th>\n",
        "      <th>TwoNineOneZero</th>\n",
        "      <th>TwoNineOneOne</th>\n",
        "      <th>TwoNineOneTwo</th>\n",
        "    </tr>\n",
        "  </thead>\n",
        "  <tbody>\n",
        "    <tr>\n",
        "      <th>25</th>\n",
        "      <td> Domestic</td>\n",
        "      <td> CVY</td>\n",
        "      <td> 26</td>\n",
        "      <td> 1</td>\n",
        "      <td> 733447</td>\n",
        "      <td>  2009-2-9</td>\n",
        "      <td> 2009</td>\n",
        "      <td> 2</td>\n",
        "      <td>  9</td>\n",
        "      <td> 25</td>\n",
        "      <td>...</td>\n",
        "      <td>-15.548543</td>\n",
        "      <td> 15.058091</td>\n",
        "      <td>-15.843659</td>\n",
        "      <td> 4.511992</td>\n",
        "      <td>-15.897551</td>\n",
        "      <td>-12.950777</td>\n",
        "      <td>-16.620513</td>\n",
        "      <td> 7.531968</td>\n",
        "      <td>-6.171333</td>\n",
        "      <td> 0.892212</td>\n",
        "    </tr>\n",
        "    <tr>\n",
        "      <th>26</th>\n",
        "      <td> Domestic</td>\n",
        "      <td> CVY</td>\n",
        "      <td> 27</td>\n",
        "      <td> 1</td>\n",
        "      <td> 733448</td>\n",
        "      <td> 2009-2-10</td>\n",
        "      <td> 2009</td>\n",
        "      <td> 2</td>\n",
        "      <td> 10</td>\n",
        "      <td> 26</td>\n",
        "      <td>...</td>\n",
        "      <td>-15.930157</td>\n",
        "      <td> 15.015596</td>\n",
        "      <td>-16.052636</td>\n",
        "      <td> 5.004963</td>\n",
        "      <td>-16.023371</td>\n",
        "      <td>-12.999630</td>\n",
        "      <td>-16.525176</td>\n",
        "      <td> 7.311304</td>\n",
        "      <td>-5.736968</td>\n",
        "      <td> 0.373765</td>\n",
        "    </tr>\n",
        "    <tr>\n",
        "      <th>27</th>\n",
        "      <td> Domestic</td>\n",
        "      <td> CVY</td>\n",
        "      <td> 28</td>\n",
        "      <td> 1</td>\n",
        "      <td> 733449</td>\n",
        "      <td> 2009-2-11</td>\n",
        "      <td> 2009</td>\n",
        "      <td> 2</td>\n",
        "      <td> 11</td>\n",
        "      <td> 27</td>\n",
        "      <td>...</td>\n",
        "      <td>-15.509627</td>\n",
        "      <td> 14.573063</td>\n",
        "      <td>-16.017767</td>\n",
        "      <td> 4.346711</td>\n",
        "      <td>-15.690649</td>\n",
        "      <td>-12.521915</td>\n",
        "      <td>-16.919829</td>\n",
        "      <td> 7.703324</td>\n",
        "      <td>-5.711776</td>\n",
        "      <td>-0.158787</td>\n",
        "    </tr>\n",
        "  </tbody>\n",
        "</table>\n",
        "<p>3 rows \u00d7 2923 columns</p>\n",
        "</div>"
       ],
       "metadata": {},
       "output_type": "pyout",
       "prompt_number": 7,
       "text": [
        "         tag ticker  price_id  asset_id  gregorian_day date_string  year  \\\n",
        "25  Domestic    CVY        26         1         733447    2009-2-9  2009   \n",
        "26  Domestic    CVY        27         1         733448   2009-2-10  2009   \n",
        "27  Domestic    CVY        28         1         733449   2009-2-11  2009   \n",
        "\n",
        "    month  day  index  ...    TwoNineZeroThree  TwoNineZeroFour  \\\n",
        "25      2    9     25  ...          -15.548543        15.058091   \n",
        "26      2   10     26  ...          -15.930157        15.015596   \n",
        "27      2   11     27  ...          -15.509627        14.573063   \n",
        "\n",
        "    TwoNineZeroFive  TwoNineZeroSix  TwoNineZeroSeven  TwoNineZeroEight  \\\n",
        "25       -15.843659        4.511992        -15.897551        -12.950777   \n",
        "26       -16.052636        5.004963        -16.023371        -12.999630   \n",
        "27       -16.017767        4.346711        -15.690649        -12.521915   \n",
        "\n",
        "    TwoNineZeroNine  TwoNineOneZero  TwoNineOneOne  TwoNineOneTwo  \n",
        "25       -16.620513        7.531968      -6.171333       0.892212  \n",
        "26       -16.525176        7.311304      -5.736968       0.373765  \n",
        "27       -16.919829        7.703324      -5.711776      -0.158787  \n",
        "\n",
        "[3 rows x 2923 columns]"
       ]
      }
     ],
     "prompt_number": 7
    },
    {
     "cell_type": "heading",
     "level": 3,
     "metadata": {},
     "source": [
      "Cluster"
     ]
    },
    {
     "cell_type": "code",
     "collapsed": false,
     "input": [
      "execfile(\"/Users/Damian/Documents/StockPredictions/PythonFunctions/kmeans_cluster.py\")\n",
      "test_df = kmeans_cluster(X=df,y=df,n_clusters=100, n_init=10, max_iter=300, n_jobs=1)\n",
      "test_df.head(5)"
     ],
     "language": "python",
     "metadata": {},
     "outputs": [
      {
       "html": [
        "<div style=\"max-height:1000px;max-width:1500px;overflow:auto;\">\n",
        "<table border=\"1\" class=\"dataframe\">\n",
        "  <thead>\n",
        "    <tr style=\"text-align: right;\">\n",
        "      <th></th>\n",
        "      <th>tag</th>\n",
        "      <th>ticker</th>\n",
        "      <th>price_id</th>\n",
        "      <th>asset_id</th>\n",
        "      <th>gregorian_day</th>\n",
        "      <th>date_string</th>\n",
        "      <th>year</th>\n",
        "      <th>month</th>\n",
        "      <th>day</th>\n",
        "      <th>index</th>\n",
        "      <th>Cluster</th>\n",
        "    </tr>\n",
        "  </thead>\n",
        "  <tbody>\n",
        "    <tr>\n",
        "      <th>25</th>\n",
        "      <td> Domestic</td>\n",
        "      <td> CVY</td>\n",
        "      <td> 26</td>\n",
        "      <td> 1</td>\n",
        "      <td> 733447</td>\n",
        "      <td>  2009-2-9</td>\n",
        "      <td> 2009</td>\n",
        "      <td> 2</td>\n",
        "      <td>  9</td>\n",
        "      <td> 25</td>\n",
        "      <td> 2</td>\n",
        "    </tr>\n",
        "    <tr>\n",
        "      <th>26</th>\n",
        "      <td> Domestic</td>\n",
        "      <td> CVY</td>\n",
        "      <td> 27</td>\n",
        "      <td> 1</td>\n",
        "      <td> 733448</td>\n",
        "      <td> 2009-2-10</td>\n",
        "      <td> 2009</td>\n",
        "      <td> 2</td>\n",
        "      <td> 10</td>\n",
        "      <td> 26</td>\n",
        "      <td> 2</td>\n",
        "    </tr>\n",
        "    <tr>\n",
        "      <th>27</th>\n",
        "      <td> Domestic</td>\n",
        "      <td> CVY</td>\n",
        "      <td> 28</td>\n",
        "      <td> 1</td>\n",
        "      <td> 733449</td>\n",
        "      <td> 2009-2-11</td>\n",
        "      <td> 2009</td>\n",
        "      <td> 2</td>\n",
        "      <td> 11</td>\n",
        "      <td> 27</td>\n",
        "      <td> 2</td>\n",
        "    </tr>\n",
        "    <tr>\n",
        "      <th>28</th>\n",
        "      <td> Domestic</td>\n",
        "      <td> CVY</td>\n",
        "      <td> 29</td>\n",
        "      <td> 1</td>\n",
        "      <td> 733450</td>\n",
        "      <td> 2009-2-12</td>\n",
        "      <td> 2009</td>\n",
        "      <td> 2</td>\n",
        "      <td> 12</td>\n",
        "      <td> 28</td>\n",
        "      <td> 2</td>\n",
        "    </tr>\n",
        "    <tr>\n",
        "      <th>29</th>\n",
        "      <td> Domestic</td>\n",
        "      <td> CVY</td>\n",
        "      <td> 30</td>\n",
        "      <td> 1</td>\n",
        "      <td> 733451</td>\n",
        "      <td> 2009-2-13</td>\n",
        "      <td> 2009</td>\n",
        "      <td> 2</td>\n",
        "      <td> 13</td>\n",
        "      <td> 29</td>\n",
        "      <td> 2</td>\n",
        "    </tr>\n",
        "  </tbody>\n",
        "</table>\n",
        "</div>"
       ],
       "metadata": {},
       "output_type": "pyout",
       "prompt_number": 22,
       "text": [
        "         tag ticker  price_id  asset_id  gregorian_day date_string  year  \\\n",
        "25  Domestic    CVY        26         1         733447    2009-2-9  2009   \n",
        "26  Domestic    CVY        27         1         733448   2009-2-10  2009   \n",
        "27  Domestic    CVY        28         1         733449   2009-2-11  2009   \n",
        "28  Domestic    CVY        29         1         733450   2009-2-12  2009   \n",
        "29  Domestic    CVY        30         1         733451   2009-2-13  2009   \n",
        "\n",
        "    month  day  index  Cluster  \n",
        "25      2    9     25        2  \n",
        "26      2   10     26        2  \n",
        "27      2   11     27        2  \n",
        "28      2   12     28        2  \n",
        "29      2   13     29        2  "
       ]
      }
     ],
     "prompt_number": 22
    },
    {
     "cell_type": "heading",
     "level": 3,
     "metadata": {},
     "source": [
      "Write to SQLite"
     ]
    },
    {
     "cell_type": "code",
     "collapsed": false,
     "input": [
      "df.to_sql('ExpandedData',con=con,flavor='sqlite',if_exists='replace')"
     ],
     "language": "python",
     "metadata": {},
     "outputs": []
    },
    {
     "cell_type": "code",
     "collapsed": false,
     "input": [
      "df.index"
     ],
     "language": "python",
     "metadata": {},
     "outputs": []
    },
    {
     "cell_type": "heading",
     "level": 3,
     "metadata": {},
     "source": [
      "TESTING"
     ]
    },
    {
     "cell_type": "code",
     "collapsed": false,
     "input": [
      "test_df['Cluster'].head(-4)"
     ],
     "language": "python",
     "metadata": {},
     "outputs": [
      {
       "metadata": {},
       "output_type": "pyout",
       "prompt_number": 21,
       "text": [
        "25    1\n",
        "26    1\n",
        "27    1\n",
        "28    1\n",
        "29    1\n",
        "30    1\n",
        "31    1\n",
        "32    1\n",
        "33    1\n",
        "34    1\n",
        "35    1\n",
        "36    1\n",
        "37    1\n",
        "38    1\n",
        "39    1\n",
        "...\n",
        "2447     1\n",
        "2448     1\n",
        "2449     1\n",
        "2450     1\n",
        "2451     1\n",
        "2452     1\n",
        "2453    85\n",
        "2454     1\n",
        "2455     1\n",
        "2456     1\n",
        "2457     1\n",
        "2458     1\n",
        "2459     1\n",
        "2460     1\n",
        "2461     1\n",
        "Name: Cluster, Length: 2287, dtype: int32"
       ]
      }
     ],
     "prompt_number": 21
    },
    {
     "cell_type": "code",
     "collapsed": false,
     "input": [],
     "language": "python",
     "metadata": {},
     "outputs": []
    }
   ],
   "metadata": {}
  }
 ]
}