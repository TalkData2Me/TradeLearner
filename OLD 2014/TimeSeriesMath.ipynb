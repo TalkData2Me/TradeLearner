{
 "metadata": {
  "name": "",
  "signature": "sha256:4f9589eea36f7b597a2f140c4e9d3c4b36760e75b48e337afccd7a00a38814f6"
 },
 "nbformat": 3,
 "nbformat_minor": 0,
 "worksheets": [
  {
   "cells": [
    {
     "cell_type": "heading",
     "level": 1,
     "metadata": {},
     "source": [
      "Setup"
     ]
    },
    {
     "cell_type": "heading",
     "level": 3,
     "metadata": {},
     "source": [
      "Import Modules"
     ]
    },
    {
     "cell_type": "code",
     "collapsed": false,
     "input": [
      "from matplotlib.finance import quotes_historical_yahoo\n",
      "import sqlite3\n",
      "import datetime\n",
      "import os\n",
      "import pandas\n",
      "import numpy\n",
      "import math\n",
      "from sklearn.decomposition import PCA\n",
      "\n",
      "%pylab inline"
     ],
     "language": "python",
     "metadata": {},
     "outputs": [
      {
       "output_type": "stream",
       "stream": "stdout",
       "text": [
        "Populating the interactive namespace from numpy and matplotlib\n"
       ]
      }
     ],
     "prompt_number": 1
    },
    {
     "cell_type": "heading",
     "level": 3,
     "metadata": {},
     "source": [
      "Set Variables"
     ]
    },
    {
     "cell_type": "code",
     "collapsed": false,
     "input": [
      "threshold = 0.01        # threshold value to determine which stocks to pass from classification to regression\n",
      "pred_horiz = 5          # prediction horizon in trading days\n",
      "\n",
      "date1 = datetime.datetime(2009,1,1)  # start date of price history\n",
      "date2 = datetime.datetime.now()      # end date of price history"
     ],
     "language": "python",
     "metadata": {},
     "outputs": [],
     "prompt_number": 2
    },
    {
     "cell_type": "heading",
     "level": 3,
     "metadata": {},
     "source": [
      "Define Assets"
     ]
    },
    {
     "cell_type": "code",
     "collapsed": false,
     "input": [
      "stocks = {'data':[('CVY','Domestic'),('DEF','Domestic'),('ACIM','International'),('BKLN','Bond')],'headers':('ticker', 'tag')}\n"
     ],
     "language": "python",
     "metadata": {},
     "outputs": [],
     "prompt_number": 3
    },
    {
     "cell_type": "heading",
     "level": 1,
     "metadata": {},
     "source": [
      " "
     ]
    },
    {
     "cell_type": "heading",
     "level": 1,
     "metadata": {},
     "source": [
      "Get and Store Basic Data"
     ]
    },
    {
     "cell_type": "heading",
     "level": 6,
     "metadata": {},
     "source": [
      "Source: http://financialpython.wordpress.com/2009/08/05/use-python-and-sqlite3-to-build-a-database/\n",
      "\n",
      "YahooSqlite.py\n",
      "\u00a0\n",
      "This module pulls stock price history for designated tickers using matplotlib.\n",
      "Matplotlib.finance returns a tuple (d, open, close, high, low, volume).\n",
      "\u00a0\n",
      "The functions below write data to a sqlite database using the sqlite3 module."
     ]
    },
    {
     "cell_type": "code",
     "collapsed": false,
     "input": [
      "path = os.path.expanduser('~') + '/Documents/StockPredictions/'\n",
      "db = path + 'SQLite/assetprices.sqlite'\n",
      "\n",
      "execfile(\"/Users/Damian/Documents/StockPredictions/PythonFunctions/DataToSQLite.py\")\n",
      "\n",
      "remove_existing_db(path=db)\n",
      "build_database(db=db, assets=stocks, start=date1, end=date2)\n"
     ],
     "language": "python",
     "metadata": {},
     "outputs": [
      {
       "output_type": "stream",
       "stream": "stdout",
       "text": [
        "old db removed\n"
       ]
      }
     ],
     "prompt_number": 4
    },
    {
     "cell_type": "heading",
     "level": 1,
     "metadata": {},
     "source": [
      "\n",
      "\n",
      "\n",
      "\n"
     ]
    },
    {
     "cell_type": "heading",
     "level": 1,
     "metadata": {},
     "source": [
      "Expand Data"
     ]
    },
    {
     "cell_type": "heading",
     "level": 3,
     "metadata": {},
     "source": [
      "SQLite to Pandas DataFrame"
     ]
    },
    {
     "cell_type": "code",
     "collapsed": false,
     "input": [
      "path = os.path.expanduser('~') + '/Documents/StockPredictions/'\n",
      "db = path + 'SQLite/assetprices.sqlite'\n",
      "\n",
      "con = sqlite3.connect(db)\n",
      "c = con.cursor()\n",
      "\n",
      "c.execute(\"SELECT b.tag, b.ticker, a.*      \\\n",
      "          FROM prices a                     \\\n",
      "          left outer join                   \\\n",
      "          assets b                          \\\n",
      "          on a.asset_id = b.asset_id\")\n",
      "prices_list = c.fetchall()"
     ],
     "language": "python",
     "metadata": {},
     "outputs": [],
     "prompt_number": 5
    },
    {
     "cell_type": "code",
     "collapsed": false,
     "input": [
      "col_list = ('tag', 'ticker', 'price_id', 'asset_id', 'gregorian_day', 'date_string', 'year', 'month', 'day', 'open', 'close', 'high', 'low', 'volume')  # ALERT: edit this list as appropriate\n",
      "df = pandas.DataFrame(prices_list, columns=col_list)\n",
      "\n",
      "df['volume'] = df['volume'].astype(float)\n",
      "\n",
      "#df['openclose'] = df['open']*df['close']\n",
      "df.dtypes"
     ],
     "language": "python",
     "metadata": {},
     "outputs": [
      {
       "metadata": {},
       "output_type": "pyout",
       "prompt_number": 6,
       "text": [
        "tag               object\n",
        "ticker            object\n",
        "price_id           int64\n",
        "asset_id           int64\n",
        "gregorian_day      int64\n",
        "date_string       object\n",
        "year               int64\n",
        "month              int64\n",
        "day                int64\n",
        "open             float64\n",
        "close            float64\n",
        "high             float64\n",
        "low              float64\n",
        "volume           float64\n",
        "dtype: object"
       ]
      }
     ],
     "prompt_number": 6
    },
    {
     "cell_type": "heading",
     "level": 3,
     "metadata": {},
     "source": [
      "Convert to Timeseries"
     ]
    },
    {
     "cell_type": "code",
     "collapsed": false,
     "input": [
      "opens = df[['year','month','day','ticker','open']]\n",
      "opens['DateTime'] = df.apply(lambda row: datetime.datetime(row['year'], row['month'], row['day'],9,30), axis=1)\n",
      "opens.drop('year', axis=1, inplace=True)\n",
      "opens.drop('month', axis=1, inplace=True)\n",
      "opens.drop('day', axis=1, inplace=True)\n",
      "opens.columns = ['ticker','price','DateTime']"
     ],
     "language": "python",
     "metadata": {},
     "outputs": [
      {
       "output_type": "stream",
       "stream": "stderr",
       "text": [
        "-c:3: SettingWithCopyWarning: A value is trying to be set on a copy of a slice from a DataFrame\n",
        "-c:4: SettingWithCopyWarning: A value is trying to be set on a copy of a slice from a DataFrame\n",
        "-c:5: SettingWithCopyWarning: A value is trying to be set on a copy of a slice from a DataFrame\n"
       ]
      }
     ],
     "prompt_number": 7
    },
    {
     "cell_type": "code",
     "collapsed": false,
     "input": [
      "closes = df[['year','month','day','ticker','close']]\n",
      "closes['DateTime'] = df.apply(lambda row: datetime.datetime(row['year'], row['month'], row['day'],16,0), axis=1)\n",
      "closes.drop('year', axis=1, inplace=True)\n",
      "closes.drop('month', axis=1, inplace=True)\n",
      "closes.drop('day', axis=1, inplace=True)\n",
      "closes.columns = ['ticker','price','DateTime']"
     ],
     "language": "python",
     "metadata": {},
     "outputs": [],
     "prompt_number": 11
    },
    {
     "cell_type": "code",
     "collapsed": false,
     "input": [
      "ts_df = opens.append(closes,ignore_index = True)\n",
      "ts_df.dtypes"
     ],
     "language": "python",
     "metadata": {},
     "outputs": [
      {
       "metadata": {},
       "output_type": "pyout",
       "prompt_number": 12,
       "text": [
        "ticker              object\n",
        "price              float64\n",
        "DateTime    datetime64[ns]\n",
        "dtype: object"
       ]
      }
     ],
     "prompt_number": 12
    },
    {
     "cell_type": "code",
     "collapsed": false,
     "input": [
      "single_asset = ts_df[ts_df['ticker']=='ACIM'].sort('DateTime')\n",
      "single_asset.drop('ticker', axis=1, inplace=True)\n",
      "single_asset.columns = ['ACIM','DateTime']\n",
      "single_asset = single_asset.set_index(['DateTime'])\n",
      "\n",
      "single_asset['2014-10'].plot()"
     ],
     "language": "python",
     "metadata": {},
     "outputs": [
      {
       "metadata": {},
       "output_type": "pyout",
       "prompt_number": 14,
       "text": [
        "<matplotlib.axes.AxesSubplot at 0x112b7add0>"
       ]
      },
      {
       "metadata": {},
       "output_type": "display_data",
       "png": "[encoded data removed]",
       "text": [
        "<matplotlib.figure.Figure at 0x112b7ab10>"
       ]
      }
     ],
     "prompt_number": 14
    },
    {
     "cell_type": "code",
     "collapsed": false,
     "input": [],
     "language": "python",
     "metadata": {},
     "outputs": []
    }
   ],
   "metadata": {}
  }
 ]
}