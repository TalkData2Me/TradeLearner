{
 "metadata": {
  "name": "",
  "signature": "sha256:d1ffcc92d6e8551759f134b12812bb6ad0d49940bb3004d5179199d7b7f13c09"
 },
 "nbformat": 3,
 "nbformat_minor": 0,
 "worksheets": [
  {
   "cells": [
    {
     "cell_type": "code",
     "collapsed": false,
     "input": [
      "def normalize(df=None,minimum=None,maximum=None):\n",
      "    from sklearn import preprocessing\n",
      "    cols = list(df.columns.values)\n",
      "    to_norm = []\n",
      "    base_fields = []\n",
      "    df = df.replace([numpy.inf, -numpy.inf, numpy.NINF,'',numpy.nan], numpy.nan).dropna(axis=0)\n",
      "    for col in cols:\n",
      "        if df[col].dtype == 'float':\n",
      "            to_norm.append(col)\n",
      "        else:\n",
      "            base_fields.append(col)\n",
      "    min_max_scaler = preprocessing.MinMaxScaler(feature_range=(minimum, maximum))\n",
      "    df = df.replace([numpy.inf, -numpy.inf, numpy.NINF,'',numpy.nan], numpy.nan).dropna(axis=0)\n",
      "    norm_df = pandas.DataFrame(min_max_scaler.fit_transform(df[to_norm]))\n",
      "    df = df.replace([numpy.inf, -numpy.inf, numpy.NINF,'',numpy.nan], numpy.nan).dropna(axis=0)\n",
      "    norm_df.rename(columns=lambda x: str(x).replace('0', 'Zero'), inplace=True)\n",
      "    norm_df.rename(columns=lambda x: str(x).replace('1', 'One'), inplace=True)\n",
      "    norm_df.rename(columns=lambda x: str(x).replace('2', 'Two'), inplace=True)\n",
      "    norm_df.rename(columns=lambda x: str(x).replace('3', 'Three'), inplace=True)\n",
      "    norm_df.rename(columns=lambda x: str(x).replace('4', 'Four'), inplace=True)\n",
      "    norm_df.rename(columns=lambda x: str(x).replace('5', 'Five'), inplace=True)\n",
      "    norm_df.rename(columns=lambda x: str(x).replace('6', 'Six'), inplace=True)\n",
      "    norm_df.rename(columns=lambda x: str(x).replace('7', 'Seven'), inplace=True)\n",
      "    norm_df.rename(columns=lambda x: str(x).replace('8', 'Eight'), inplace=True)\n",
      "    norm_df.rename(columns=lambda x: str(x).replace('9', 'Nine'), inplace=True)\n",
      "    df = pandas.merge(df[base_fields],norm_df,left_index=True,right_index=True)\n",
      "    df = df.replace([numpy.inf, -numpy.inf, numpy.NINF,'',numpy.nan], numpy.nan).dropna(axis=0)\n",
      "    return df"
     ],
     "language": "python",
     "metadata": {},
     "outputs": []
    }
   ],
   "metadata": {}
  }
 ]
}