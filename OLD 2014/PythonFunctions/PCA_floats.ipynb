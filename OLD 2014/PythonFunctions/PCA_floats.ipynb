{
 "metadata": {
  "name": "",
  "signature": "sha256:95dde43ab4740e72476cb3659d589cacbef1eeca2079da0784a15efaf06ed746"
 },
 "nbformat": 3,
 "nbformat_minor": 0,
 "worksheets": [
  {
   "cells": [
    {
     "cell_type": "code",
     "collapsed": false,
     "input": [
      "def PCA_floats(df=None,n_comps=None,whiten=None):\n",
      "    from sklearn.decomposition import PCA\n",
      "    print 'Original data size: ' + str(df.shape)\n",
      "    cols = list(df.columns.values)\n",
      "    to_pca = []\n",
      "    base_fields = []\n",
      "    \n",
      "    for col in cols:\n",
      "        if df[col].dtype == 'float':\n",
      "            to_pca.append(col)\n",
      "        else:\n",
      "            base_fields.append(col)\n",
      "    pca = PCA(n_components=n_comps,whiten=whiten)\n",
      "    pca_df = pandas.DataFrame(pca.fit_transform(df[to_pca]))\n",
      "    pca_df.rename(columns=lambda x: str(x).replace('0', 'Zero'), inplace=True)\n",
      "    pca_df.rename(columns=lambda x: str(x).replace('1', 'One'), inplace=True)\n",
      "    pca_df.rename(columns=lambda x: str(x).replace('2', 'Two'), inplace=True)\n",
      "    pca_df.rename(columns=lambda x: str(x).replace('3', 'Three'), inplace=True)\n",
      "    pca_df.rename(columns=lambda x: str(x).replace('4', 'Four'), inplace=True)\n",
      "    pca_df.rename(columns=lambda x: str(x).replace('5', 'Five'), inplace=True)\n",
      "    pca_df.rename(columns=lambda x: str(x).replace('6', 'Six'), inplace=True)\n",
      "    pca_df.rename(columns=lambda x: str(x).replace('7', 'Seven'), inplace=True)\n",
      "    pca_df.rename(columns=lambda x: str(x).replace('8', 'Eight'), inplace=True)\n",
      "    pca_df.rename(columns=lambda x: str(x).replace('9', 'Nine'), inplace=True)\n",
      "    df = pandas.merge(df[base_fields],pca_df,left_index=True,right_index=True)\n",
      "    print 'PCA data size: ' + str(df.shape)\n",
      "    return df"
     ],
     "language": "python",
     "metadata": {},
     "outputs": []
    }
   ],
   "metadata": {}
  }
 ]
}