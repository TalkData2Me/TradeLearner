{
 "metadata": {
  "name": "",
  "signature": "sha256:916049c3173a5710bf243d10d763766f8d77dca5708292ddb45681ffad13a43c"
 },
 "nbformat": 3,
 "nbformat_minor": 0,
 "worksheets": [
  {
   "cells": [
    {
     "cell_type": "code",
     "collapsed": false,
     "input": [
      "def kmeans_cluster(X=None,y=None, n_clusters=None, n_init=None, max_iter=None, n_jobs=None):\n",
      "    from sklearn import cluster\n",
      "    \n",
      "    km = cluster.KMeans(n_clusters=n_clusters, n_init=n_init, max_iter=max_iter, n_jobs=n_jobs)\n",
      "    \n",
      "    cols = list(X.columns.values)\n",
      "    clusterable = []\n",
      "    base_fields = []\n",
      "    \n",
      "    for col in cols:\n",
      "        if X[col].dtype == 'float':\n",
      "            clusterable.append(col)\n",
      "        else:\n",
      "            base_fields.append(col)\n",
      "    \n",
      "    km.fit(X[clusterable])\n",
      "    clstr = pandas.DataFrame(km.predict(y[clusterable]))\n",
      "    clstr.rename(columns=lambda x: str(x).replace('0', 'Cluster'), inplace=True)\n",
      "    result = pandas.merge(y[base_fields],clstr,left_index=True,right_index=True)\n",
      "    return result"
     ],
     "language": "python",
     "metadata": {},
     "outputs": []
    }
   ],
   "metadata": {}
  }
 ]
}