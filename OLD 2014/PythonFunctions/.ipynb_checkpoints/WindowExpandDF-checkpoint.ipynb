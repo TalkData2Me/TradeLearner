{
 "metadata": {
  "name": "",
  "signature": "sha256:de1d22f551e15bf17719c48dae1a9dd5683778f69720237be80594f386f4789d"
 },
 "nbformat": 3,
 "nbformat_minor": 0,
 "worksheets": [
  {
   "cells": [
    {
     "cell_type": "code",
     "collapsed": false,
     "input": [
      "def window_data(df=None, prior_days=None):\n",
      "    df = df.sort(['asset_id','gregorian_day'])\n",
      "    df['index'] = df.index.values\n",
      "    for n in prior_days:   # change these to reflect trading days per month, year, etc.\n",
      "        df2 = df[['index', 'asset_id', 'open', 'high', 'low', 'close', 'volume']].copy()\n",
      "        df2['index'] = df2['index']+n\n",
      "        df = pandas.merge(df, df2, how='left', on=('asset_id','index'), left_on=None, right_on=None,\n",
      "                      left_index=False, right_index=False, sort=True,\n",
      "                      suffixes=('', '_m'+str(n)), copy=True)\n",
      "        df2=None\n",
      "    df = df.replace([numpy.inf, -numpy.inf, numpy.NINF,'',numpy.nan], numpy.nan).dropna(axis=0)\n",
      "    return df\n"
     ],
     "language": "python",
     "metadata": {},
     "outputs": [],
     "prompt_number": 6
    },
    {
     "cell_type": "code",
     "collapsed": false,
     "input": [
      "def add_interactions(df=None):\n",
      "    cols = list(df.columns.values)\n",
      "    to_expand = []\n",
      "    for col in cols:\n",
      "        if df[col].dtype == 'float':\n",
      "            to_expand.append(col)\n",
      "    for coli in to_expand:\n",
      "        for colj in to_expand:\n",
      "            df[coli+'_'+colj] = (df[coli] - df[colj]) / df[colj]\n",
      "    for col in to_expand:\n",
      "        df = df.drop(col,1)\n",
      "    return df"
     ],
     "language": "python",
     "metadata": {},
     "outputs": [],
     "prompt_number": 4
    },
    {
     "cell_type": "code",
     "collapsed": false,
     "input": [
      "def expnd_w_fctns(df=None):\n",
      "    cols = list(df.columns.values)\n",
      "    to_expand = []\n",
      "    for col in cols:\n",
      "        if df[col].dtype == 'float':\n",
      "            to_expand.append(col)\n",
      "    for col in to_expand:\n",
      "        df[col+'_sqrd'] = df[col]**2\n",
      "        df[col+'_cubd'] = df[col]**3\n",
      "        df[col+'_cos'] = numpy.cos(df[col])\n",
      "        df[col+'_sin'] = numpy.sin(df[col])\n",
      "    return df"
     ],
     "language": "python",
     "metadata": {},
     "outputs": [],
     "prompt_number": 5
    },
    {
     "cell_type": "code",
     "collapsed": false,
     "input": [],
     "language": "python",
     "metadata": {},
     "outputs": []
    }
   ],
   "metadata": {}
  }
 ]
}