{
 "metadata": {
  "name": "",
  "signature": "sha256:b12aabff743c2188328ee11cae09233219d96305bb0fe015fab1312b932f6fc3"
 },
 "nbformat": 3,
 "nbformat_minor": 0,
 "worksheets": [
  {
   "cells": [
    {
     "cell_type": "code",
     "collapsed": false,
     "input": [
      "def package_data(db=None, ticker=None, start=None, end=None):\n",
      "    con = sqlite3.connect(db)\n",
      "    c = con.cursor()\n",
      "    sql = \"select asset_id from assets where ticker='%s'\" % ticker #change this!\n",
      "    c.execute(sql)\n",
      "    id_list = c.fetchall()\n",
      "    if len(id_list)==1:\n",
      "        f_key = id_list[0][0]\n",
      "    else:\n",
      "        print 'Error: asset has %s IDs' % str(len(key_list))\n",
      "\n",
      "    raw_quotes = quotes_historical_yahoo(ticker, start, end) #list of tuples\n",
      "    data = []\n",
      "    \n",
      "    for quote in raw_quotes:\n",
      "        date_raw = datetime.datetime.fromordinal(int(quote[0]))\n",
      "        year, month, day = date_raw.year, date_raw.month, date_raw.day\n",
      "        date_string = str(year)+'-'+str(month)+'-'+str(day)\n",
      "        record = (f_key, quote[0], date_string, year, month, day, quote[1], quote[2], quote[3], quote[4], quote[5])\n",
      "        data.append(record)\n",
      "    \n",
      "    headers = ('asset_id','gregorian_day','date_string','year','month','day','open','close','high','low','volume')\n",
      "    \n",
      "    return {'data':data, 'headers':headers}"
     ],
     "language": "python",
     "metadata": {},
     "outputs": [],
     "prompt_number": 1
    },
    {
     "cell_type": "code",
     "collapsed": false,
     "input": [
      "# write2sqlite() takes a given dictionary of tuples and writes them to a designated sqlite database table.\n",
      "\n",
      "def write2sqlite(db=None, table_name=None, data_dict=None):\n",
      "    header_string = ', '.join([header for header in data_dict['headers']])\n",
      "    marks = len(data_dict['headers'])*'?,'\n",
      "    marks_string = marks[:-1]\n",
      "    con = sqlite3.connect(db)\n",
      "    c = con.cursor()\n",
      "    c.executemany('insert into ' + table_name + ' (' + header_string + ') '\n",
      "                  'values (' + marks_string +')', data_dict['data'])\n",
      "    con.commit()\n",
      "    # don't forget to add 'date modified' field at some pt\n",
      "    c.close()\n",
      "    return"
     ],
     "language": "python",
     "metadata": {},
     "outputs": [],
     "prompt_number": 2
    },
    {
     "cell_type": "code",
     "collapsed": false,
     "input": [
      "# build_database() creates an sqlite database populated by stocks defined in the code below. \n",
      "# Change date1 to adjust how much price history you want.\n",
      "\n",
      "def build_database(db=None, assets=None, start=None, end=None):\n",
      "    con = sqlite3.connect(db)\n",
      "    c = con.cursor()\n",
      "    c.execute('''CREATE TABLE assets\n",
      "    (asset_id integer not null primary key,\n",
      "    ticker text,\n",
      "    tag text)\n",
      "    ''')\n",
      "    \n",
      "    c.execute('''CREATE TABLE prices\n",
      "    (price_id integer not null primary key,\n",
      "    asset_id integer not null,\n",
      "    gregorian_day integer,\n",
      "    date_string date,\n",
      "    year integer,\n",
      "    month integer,\n",
      "    day integer,\n",
      "    open real,\n",
      "    close real,\n",
      "    high real,\n",
      "    low real,\n",
      "    volume integer,\n",
      "    FOREIGN KEY (asset_id) REFERENCES assets(asset_id))\n",
      "    ''')\n",
      "    \n",
      "    con.commit()\n",
      "    c.close()\n",
      "    \n",
      "    #add stocks to asset table\n",
      "    write2sqlite(db=db, table_name='assets', data_dict=assets)\n",
      "    \n",
      "    #package price data and write to price table\n",
      "    for asset in assets['data']:\n",
      "        prices = package_data(db=db, ticker=asset[0], start=start, end=end)\n",
      "        write2sqlite(db=db, table_name='prices', data_dict=prices)\n",
      "    \n",
      "    return"
     ],
     "language": "python",
     "metadata": {},
     "outputs": [],
     "prompt_number": 3
    },
    {
     "cell_type": "code",
     "collapsed": false,
     "input": [
      "def remove_existing_db(path=None):\n",
      "    if os.path.exists(path) == True:\n",
      "        os.remove(path)\n",
      "        print 'old db removed'\n",
      "    else:\n",
      "        pass"
     ],
     "language": "python",
     "metadata": {},
     "outputs": [],
     "prompt_number": 4
    },
    {
     "cell_type": "code",
     "collapsed": false,
     "input": [],
     "language": "python",
     "metadata": {},
     "outputs": []
    }
   ],
   "metadata": {}
  }
 ]
}