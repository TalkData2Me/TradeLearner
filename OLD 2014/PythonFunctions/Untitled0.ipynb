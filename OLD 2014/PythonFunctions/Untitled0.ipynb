{
 "metadata": {
  "name": "",
  "signature": "sha256:49031dba791e7c6d041e6baa3e832d8e9bad58e2d83e2426d0e0542fbabfda5b"
 },
 "nbformat": 3,
 "nbformat_minor": 0,
 "worksheets": [
  {
   "cells": [
    {
     "cell_type": "code",
     "collapsed": false,
     "input": [
      "con_mem = sqlite3.connect(\":memory:\")\n",
      "cur_mem = con_mem.cursor()\n",
      "\n",
      "path = os.path.expanduser('~') + '/Documents/StockPredictions/'\n",
      "db = path + 'SQLite/assetprices.sqlite'\n"
     ],
     "language": "python",
     "metadata": {},
     "outputs": []
    },
    {
     "cell_type": "code",
     "collapsed": false,
     "input": [
      "cur_mem.execute('''DROP TABLE prices''')     # ALERT: May want to add logic to check if exists first or could drop in PROD"
     ],
     "language": "python",
     "metadata": {},
     "outputs": []
    },
    {
     "cell_type": "code",
     "collapsed": false,
     "input": [
      "cur_mem.execute('''CREATE TABLE prices\n",
      "             (tag text, ticker text, price_id int, asset_id int, gregorian_day int, date_string date, year int, month int, day int, open real, close real, high real, low real, volume int)''')\n",
      "\n",
      "c.execute(\"SELECT b.tag, b.ticker, a.*      \\\n",
      "          FROM prices a                     \\\n",
      "          left outer join                   \\\n",
      "          assets b                          \\\n",
      "          on a.asset_id = b.asset_id\")\n",
      "prices_list = c.fetchall()\n",
      "#print prices_list[1:3]\n",
      "c.execute(\"select count(*) from prices\")\n",
      "orig = c.fetchone()\n",
      "\n",
      "cur_mem.executemany('INSERT INTO prices VALUES (?,?,?,?,?,?,?,?,?,?,?,?,?,?)', prices_list)  # ALERT: Need to adjust based on number of fields\n",
      "cur_mem.execute(\"select * from prices\")\n",
      "#prices_test = cur_mem.fetchall()\n",
      "#print prices_test[1:3]\n",
      "cur_mem.execute(\"select count(*) from prices\")\n",
      "new = cur_mem.fetchone()\n",
      "\n",
      "if new > orig:\n",
      "    print \"ERROR: Too Many Objects - check for duplication\"\n",
      "elif new < orig:\n",
      "    print \"ERROR: Too Few Objects - not all records were copied\"\n",
      "else:\n",
      "    print \"Insert Okay\""
     ],
     "language": "python",
     "metadata": {},
     "outputs": []
    },
    {
     "cell_type": "code",
     "collapsed": false,
     "input": [
      "cur_mem.execute('CREATE TABLE expanded AS SELECT * FROM prices')\n",
      "\n"
     ],
     "language": "python",
     "metadata": {},
     "outputs": []
    },
    {
     "cell_type": "code",
     "collapsed": false,
     "input": [
      "# ALERT: Edit this section to include additional tags\n",
      "Domestic = []\n",
      "International = []\n",
      "for record in prices_list:\n",
      "    if record[0] == 'Domestic':\n",
      "        Domestic.append(record)\n",
      "    elif record[0] == 'International':\n",
      "        International.append(record)\n",
      "\n",
      "col_list = ('tag', 'ticker', 'price_id', 'asset_id', 'gregorian_day', 'date_string', 'year', 'month', 'day', 'open', 'close', 'high', 'low', 'volume')  # ALERT: edit this list as appropriate\n",
      "Domestic = pandas.DataFrame(Domestic, columns=col_list)\n",
      "International = pandas.DataFrame(International, columns=col_list)"
     ],
     "language": "python",
     "metadata": {},
     "outputs": []
    }
   ],
   "metadata": {}
  }
 ]
}