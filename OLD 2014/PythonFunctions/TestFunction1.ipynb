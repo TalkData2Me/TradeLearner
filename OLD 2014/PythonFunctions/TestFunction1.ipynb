{
 "metadata": {
  "name": "",
  "signature": "sha256:6b179e78ceb4e4b868178e1d65a08485d24b4845970d07a3c1000020f3d83181"
 },
 "nbformat": 3,
 "nbformat_minor": 0,
 "worksheets": [
  {
   "cells": [
    {
     "cell_type": "code",
     "collapsed": false,
     "input": [
      "def fib(n): # return Fibonacci series up to n\n",
      "    \"Return a list containing the Fibonacci series up to n\"\n",
      "    result = []\n",
      "    a, b = 0, 1\n",
      "    while b < n:\n",
      "        result.append(b)    # see below\n",
      "        a, b = b, a+b\n",
      "    return result"
     ],
     "language": "python",
     "metadata": {},
     "outputs": [],
     "prompt_number": 1
    }
   ],
   "metadata": {}
  }
 ]
}