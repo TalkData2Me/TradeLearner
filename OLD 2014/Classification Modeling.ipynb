{
 "metadata": {
  "name": "",
  "signature": "sha256:d31779ec3d2bc26fea62be631ff119be4b9a2c6fd4438f056d8aa78c83a6623b"
 },
 "nbformat": 3,
 "nbformat_minor": 0,
 "worksheets": [
  {
   "cells": [
    {
     "cell_type": "heading",
     "level": 1,
     "metadata": {},
     "source": [
      "Classification Modeling"
     ]
    },
    {
     "cell_type": "heading",
     "level": 3,
     "metadata": {},
     "source": [
      "Setup"
     ]
    },
    {
     "cell_type": "heading",
     "level": 6,
     "metadata": {},
     "source": [
      "# FROM PBR ATTRITION\n",
      " \n",
      "df = pandas.read_csv('/prod/user/sam/us/bank/direct/npi/nwb066/PBR_Attrition/t2_train.csv')\n",
      "test_df = pandas.read_csv('/prod/user/sam/us/bank/direct/npi/nwb066/PBR_Attrition/t2_test.csv')\n",
      " \n",
      "X = df.copy(deep=True)\n",
      "cols2drop = ['label','PRIM_CUST_ID','ME_DT']\n",
      "X = X.drop(cols2drop,axis=1)\n",
      "X = X.values\n",
      "#y = df['label'].apply(lambda label: 1 if label == 'Closed' else 0)\n",
      "#y = y.values\n",
      "y = le.transform(df['label'])\n",
      " \n",
      " \n",
      " \n",
      "rf_clf = RandomForestClassifier(n_estimators=10, max_depth=None,min_samples_split=1, random_state=0)\n",
      "scores = cross_val_score(rf_clf, X, y, n_jobs=-1)\n",
      "print scores.mean()\n",
      " \n",
      "rf_clf.fit(X,y)\n",
      "result = le.inverse_transform(rf_clf.predict([test_df.drop(cols2drop,axis=1)].values))"
     ]
    },
    {
     "cell_type": "code",
     "collapsed": false,
     "input": [
      "from sklearn.ensemble import RandomForestClassifier\n",
      "from sklearn.cross_validation import cross_val_score\n",
      "from sklearn.ensemble import AdaBoostClassifier\n",
      "from sklearn.ensemble import ExtraTreesClassifier\n",
      "from sklearn import preprocessing\n",
      "\n",
      "le = preprocessing.LabelEncoder()\n",
      "le.fit([False,True])\n",
      "\n",
      "thrshld = 0.01  # Adjustable minimum threshold to pass first line of models\n",
      "print 'threshold set at: ' + str(thrshld)"
     ],
     "language": "python",
     "metadata": {},
     "outputs": []
    },
    {
     "cell_type": "code",
     "collapsed": false,
     "input": [
      "\n",
      "X = df.copy(deep=True)\n",
      "cols2drop = ['tag', 'ticker', 'price_id', 'asset_id', 'gregorian_day', 'date_string', 'year', 'month', 'day', 'index']\n",
      "X = X.drop(cols2drop,axis=1)\n",
      "X.replace('%','',regex=True).astype('float')/100\n",
      "X = X.values\n",
      "\n",
      "y = df['close_close_m1']\n",
      "y = y >= 0.01\n",
      "y = le.transform(y)"
     ],
     "language": "python",
     "metadata": {},
     "outputs": []
    },
    {
     "cell_type": "code",
     "collapsed": false,
     "input": [
      "et_clf = ExtraTreesClassifier(n_estimators=10, max_depth=None, min_samples_split=1, random_state=0)\n",
      "scores = cross_val_score(et_clf, X, y)   # , n_jobs=-1\n",
      "print scores.mean()"
     ],
     "language": "python",
     "metadata": {},
     "outputs": []
    },
    {
     "cell_type": "code",
     "collapsed": false,
     "input": [],
     "language": "python",
     "metadata": {},
     "outputs": []
    }
   ],
   "metadata": {}
  }
 ]
}