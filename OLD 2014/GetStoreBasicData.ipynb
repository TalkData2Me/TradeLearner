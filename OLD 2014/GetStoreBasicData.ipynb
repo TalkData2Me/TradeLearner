{
 "metadata": {
  "name": "",
  "signature": "sha256:7617c58ec365c0b53bd4f259fb7c36188e226aa2d696c526af9aad2a2d713e8d"
 },
 "nbformat": 3,
 "nbformat_minor": 0,
 "worksheets": [
  {
   "cells": [
    {
     "cell_type": "heading",
     "level": 1,
     "metadata": {},
     "source": [
      "Get and Store Basic Data"
     ]
    },
    {
     "cell_type": "heading",
     "level": 6,
     "metadata": {},
     "source": [
      "Source: http://financialpython.wordpress.com/2009/08/05/use-python-and-sqlite3-to-build-a-database/\n",
      "\n",
      "YahooSqlite.py\n",
      "\u00a0\n",
      "This module pulls stock price history for designated tickers using matplotlib.\n",
      "Matplotlib.finance returns a tuple (d, open, close, high, low, volume).\n",
      "\u00a0\n",
      "The functions below write data to a sqlite database using the sqlite3 module."
     ]
    },
    {
     "cell_type": "heading",
     "level": 2,
     "metadata": {},
     "source": [
      "Setup"
     ]
    },
    {
     "cell_type": "heading",
     "level": 3,
     "metadata": {},
     "source": [
      "Import Dependencies"
     ]
    },
    {
     "cell_type": "code",
     "collapsed": false,
     "input": [
      "from matplotlib.finance import quotes_historical_yahoo\n",
      "import sqlite3\n",
      "import datetime\n",
      "import os"
     ],
     "language": "python",
     "metadata": {},
     "outputs": [],
     "prompt_number": 14
    },
    {
     "cell_type": "heading",
     "level": 3,
     "metadata": {},
     "source": [
      "Set Initial Variables"
     ]
    },
    {
     "cell_type": "code",
     "collapsed": false,
     "input": [
      "date1 = datetime.datetime(2009,1,1)\n",
      "date2 = datetime.datetime.now()\n",
      "path = os.path.expanduser('~') + '/Documents/StockPredictions/'\n",
      "db = path + 'SQLite/assetprices.sqlite'"
     ],
     "language": "python",
     "metadata": {},
     "outputs": [],
     "prompt_number": 39
    },
    {
     "cell_type": "heading",
     "level": 3,
     "metadata": {},
     "source": [
      "Define Assets"
     ]
    },
    {
     "cell_type": "code",
     "collapsed": false,
     "input": [
      "stocks = {'data':[('CVY','Domestic'),('DEF','Domestic'),('EWRS','Domestic'),('FNDA','Domestic'),('FNDB','Domestic'),('FNDX','Domestic'),('MDYG','Domestic'),('MDYV','Domestic'),('RSP','Domestic'),('SCHA','Domestic'),('SCHB','Domestic'),('SCHD','Domestic'),('SCHG','Domestic'),('SCHM','Domestic'),('SCHV','Domestic'),('SCHX','Domestic'),('SLYG','Domestic'),('SLYV','Domestic'),('SPHB','Domestic'),('SPLV','Domestic'),('XLG','Domestic'),\n",
      "                  ('ACIM','International'),('CWI','International'),('DWX','International'),('EDIV','International'),('EEB','International'),('EELV','International'),('EWEM','International'),('EWX','International'),('FEU','International'),('FNDC','International'),('FNDE','International'),('FNDF','International'),('FRN','International'),('GAF','International'),('GAL','International'),('GMF','International'),('GML','International'),('HAO','International'),('HGI','International'),('IDLV','International'),('INKM','International'),('JPP','International'),('MDD','International'),('PIN','International'),('RLY','International'),('SCHC','International'),('SCHE','International'),('SCHF','International'),('WDIV','International'),('YAO','International'),\n",
      "                  ('BKLN','Bond'),('BSCE','Bond'),('BSCF','Bond'),('BSCG','Bond'),('BSCH','Bond'),('BSCI','Bond'),('BSCJ','Bond'),('BSCK','Bond'),('BSCL','Bond'),('BSCM','Bond'),('BSJE','Bond'),('BSJF','Bond'),('BSJG','Bond'),('BSJH','Bond'),('BSJI','Bond'),('BSJJ','Bond'),('BSJK','Bond'),('BWX','Bond'),('BWZ','Bond'),('CBND','Bond'),('CWB','Bond'),('DSUM','Bond'),('EBND','Bond'),('EMCD','Bond'),('HYMB','Bond'),('IBND','Bond'),('PCY','Bond'),('PHB','Bond'),('PWZ','Bond'),('PZT','Bond'),('SCHO','Bond'),('SCHP','Bond'),('SCHR','Bond'),('SCHZ','Bond'),('SHM','Bond'),('TFI','Bond'),('TLO','Bond')],\n",
      "          'headers':('ticker', 'tag')}\n"
     ],
     "language": "python",
     "metadata": {},
     "outputs": [],
     "prompt_number": 48
    },
    {
     "cell_type": "heading",
     "level": 2,
     "metadata": {},
     "source": [
      "Define Functions"
     ]
    },
    {
     "cell_type": "heading",
     "level": 3,
     "metadata": {},
     "source": [
      "package_data"
     ]
    },
    {
     "cell_type": "code",
     "collapsed": false,
     "input": [
      "def package_data(db=None, ticker=None, start=None, end=None):\n",
      "    con = sqlite3.connect(db)\n",
      "    c = con.cursor()\n",
      "    sql = \"select asset_id from assets where ticker='%s'\" % ticker #change this!\n",
      "    c.execute(sql)\n",
      "    id_list = c.fetchall()\n",
      "    if len(id_list)==1:\n",
      "        f_key = id_list[0][0]\n",
      "    else:\n",
      "        print 'Error: asset has %s IDs' % str(len(key_list))\n",
      "\n",
      "    raw_quotes = quotes_historical_yahoo(ticker, start, end) #list of tuples\n",
      "    data = []\n",
      "    \n",
      "    for quote in raw_quotes:\n",
      "        date_raw = datetime.datetime.fromordinal(int(quote[0]))\n",
      "        year, month, day = date_raw.year, date_raw.month, date_raw.day\n",
      "        date_string = str(year)+'-'+str(month)+'-'+str(day)\n",
      "        record = (f_key, quote[0], date_string, year, month, day, quote[1], quote[2], quote[3], quote[4], quote[5])\n",
      "        data.append(record)\n",
      "    \n",
      "    headers = ('asset_id','gregorian_day','date_string','year','month','day','open','close','high','low','volume')\n",
      "    \n",
      "    return {'data':data, 'headers':headers}"
     ],
     "language": "python",
     "metadata": {},
     "outputs": [],
     "prompt_number": 30
    },
    {
     "cell_type": "heading",
     "level": 3,
     "metadata": {},
     "source": [
      "write2sqlite"
     ]
    },
    {
     "cell_type": "code",
     "collapsed": false,
     "input": [
      "# write2sqlite() takes a given dictionary of tuples and writes them to a designated sqlite database table.\n",
      "\n",
      "def write2sqlite(db=None, table_name=None, data_dict=None):\n",
      "    header_string = ', '.join([header for header in data_dict['headers']])\n",
      "    marks = len(data_dict['headers'])*'?,'\n",
      "    marks_string = marks[:-1]\n",
      "    con = sqlite3.connect(db)\n",
      "    c = con.cursor()\n",
      "    c.executemany('insert into ' + table_name + ' (' + header_string + ') '\n",
      "                  'values (' + marks_string +')', data_dict['data'])\n",
      "    con.commit()\n",
      "    # don't forget to add 'date modified' field at some pt\n",
      "    c.close()\n",
      "    return"
     ],
     "language": "python",
     "metadata": {},
     "outputs": [],
     "prompt_number": 31
    },
    {
     "cell_type": "heading",
     "level": 3,
     "metadata": {},
     "source": [
      "build_database"
     ]
    },
    {
     "cell_type": "code",
     "collapsed": false,
     "input": [
      "# build_database() creates an sqlite database populated by stocks defined in the code below. \n",
      "# Change date1 to adjust how much price history you want.\n",
      "\n",
      "def build_database(db=None, assets=None, start=None, end=None):\n",
      "    con = sqlite3.connect(db)\n",
      "    c = con.cursor()\n",
      "    c.execute('''CREATE TABLE assets\n",
      "    (asset_id integer not null primary key,\n",
      "    ticker text,\n",
      "    tag text)\n",
      "    ''')\n",
      "    \n",
      "    c.execute('''CREATE TABLE prices\n",
      "    (price_id integer not null primary key,\n",
      "    asset_id integer not null,\n",
      "    gregorian_day integer,\n",
      "    date_string date,\n",
      "    year integer,\n",
      "    month integer,\n",
      "    day integer,\n",
      "    open real,\n",
      "    close real,\n",
      "    high real,\n",
      "    low real,\n",
      "    volume integer,\n",
      "    FOREIGN KEY (asset_id) REFERENCES assets(asset_id))\n",
      "    ''')\n",
      "    \n",
      "    con.commit()\n",
      "    c.close()\n",
      "    \n",
      "    #add stocks to asset table\n",
      "    write2sqlite(db=db, table_name='assets', data_dict=assets)\n",
      "    \n",
      "    #package price data and write to price table\n",
      "    for asset in assets['data']:\n",
      "        prices = package_data(db=db, ticker=asset[0], start=start, end=end)\n",
      "        write2sqlite(db=db, table_name='prices', data_dict=prices)\n",
      "    \n",
      "    return"
     ],
     "language": "python",
     "metadata": {},
     "outputs": [],
     "prompt_number": 33
    },
    {
     "cell_type": "heading",
     "level": 3,
     "metadata": {},
     "source": [
      "remove_existing_db"
     ]
    },
    {
     "cell_type": "code",
     "collapsed": false,
     "input": [
      "def remove_existing_db(path=None):\n",
      "    if os.path.exists(path) == True:\n",
      "        os.remove(path)\n",
      "        print 'old db removed'\n",
      "    else:\n",
      "        pass"
     ],
     "language": "python",
     "metadata": {},
     "outputs": [],
     "prompt_number": 34
    },
    {
     "cell_type": "heading",
     "level": 2,
     "metadata": {},
     "source": [
      "Execute"
     ]
    },
    {
     "cell_type": "code",
     "collapsed": false,
     "input": [
      "remove_existing_db(path=db)\n",
      "build_database(db=db, assets=stocks, start=date1, end=date2)\n"
     ],
     "language": "python",
     "metadata": {},
     "outputs": [
      {
       "output_type": "stream",
       "stream": "stdout",
       "text": [
        "old db removed\n"
       ]
      }
     ],
     "prompt_number": 49
    },
    {
     "cell_type": "code",
     "collapsed": false,
     "input": [],
     "language": "python",
     "metadata": {},
     "outputs": []
    }
   ],
   "metadata": {}
  }
 ]
}