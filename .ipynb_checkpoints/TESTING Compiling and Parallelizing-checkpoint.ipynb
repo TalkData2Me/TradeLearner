{
 "metadata": {
  "name": "",
  "signature": "sha256:e66ccb1873946dd9915da89f201573d1c71c9d8c9ad2664708a9af208726519d"
 },
 "nbformat": 3,
 "nbformat_minor": 0,
 "worksheets": [
  {
   "cells": [
    {
     "cell_type": "markdown",
     "metadata": {},
     "source": [
      "#TESTING USE OF MATPLOTLIB TO PULL FINANCE DATA\n",
      "import datetime\n",
      "import numpy as np\n",
      "import matplotlib.colors as colors\n",
      "import matplotlib.finance as finance\n",
      "import matplotlib.dates as mdates\n",
      "import matplotlib.ticker as mticker\n",
      "import matplotlib.mlab as mlab\n",
      "import matplotlib.pyplot as plt\n",
      "import matplotlib.font_manager as font_manager\n",
      "\n",
      "\n",
      "startdate = datetime.date(2006,1,1)\n",
      "today = enddate = datetime.date.today()\n",
      "ticker = 'SPY'\n",
      "\n",
      "\n",
      "fh = finance.fetch_historical_yahoo(ticker, startdate, enddate)\n",
      "# a numpy record array with fields: date, open, high, low, close, volume, adj_close)\n",
      "\n",
      "r = mlab.csv2rec(fh); fh.close()\n",
      "r.sort()"
     ]
    },
    {
     "cell_type": "markdown",
     "metadata": {},
     "source": [
      "#TESTING USE OF NUMPY TO PULL FINANCE DATA\n",
      "import numpy as np\n",
      "import pylab as pl\n",
      "import urllib\n",
      "url = \"http://ichart.yahoo.com/table.csv?a=2&c=2011&b=30&e=7&d=7&g=d&f=2011&s=msft&ignore=.csv\"\n",
      "f = urllib.urlopen(url)\n",
      "#title = f.readline().strip().split(\",\")\n",
      "#data = np.loadtxt(f, dtype=np.float, delimiter=\",\", converters={0: pl.datestr2num}))"
     ]
    },
    {
     "cell_type": "code",
     "collapsed": false,
     "input": [
      "from IPython import parallel\n",
      "clients = parallel.Client()\n",
      "clients.block = True  # use synchronous computations\n",
      "print clients.ids"
     ],
     "language": "python",
     "metadata": {},
     "outputs": [
      {
       "output_type": "stream",
       "stream": "stdout",
       "text": [
        "[0, 1, 2, 3]\n"
       ]
      }
     ],
     "prompt_number": 1
    },
    {
     "cell_type": "code",
     "collapsed": false,
     "input": [
      "%px import pandas as pd\n",
      "%px import pandas.io.data as web\n",
      "%px import datetime\n",
      "%px import dateutil.relativedelta\n",
      "%px import matplotlib.pyplot as plt\n",
      "%px import numpy as np\n",
      "%px import scipy\n",
      "%px import scipy.interpolate\n",
      "%px import sklearn.ensemble"
     ],
     "language": "python",
     "metadata": {},
     "outputs": [],
     "prompt_number": 5
    },
    {
     "cell_type": "code",
     "collapsed": false,
     "input": [
      "assets = ['SCHA','SCHB','SCHC']    #Define list of assets to evaluate\n",
      "PredictionHorizon = 7              #PredictionHorizon in calendar days\n",
      "threshold = 0.01\n",
      "#start_dt =datetime.datetime.now() - dateutil.relativedelta.relativedelta(years=7)     # start date of price history\n",
      "start_dt = datetime.datetime(2007,1,1)  # start date of price history\n",
      "end_dt = datetime.datetime.now()      # end date of price history"
     ],
     "language": "python",
     "metadata": {},
     "outputs": [],
     "prompt_number": 6
    },
    {
     "cell_type": "code",
     "collapsed": false,
     "input": [],
     "language": "python",
     "metadata": {},
     "outputs": []
    }
   ],
   "metadata": {}
  }
 ]
}