{
 "metadata": {
  "name": "",
  "signature": "sha256:55b07d40f145fc71937b29a59db785119bfda08b209f6edada6d1670c7b0619c"
 },
 "nbformat": 3,
 "nbformat_minor": 0,
 "worksheets": [
  {
   "cells": [
    {
     "cell_type": "heading",
     "level": 1,
     "metadata": {},
     "source": [
      "Setup"
     ]
    },
    {
     "cell_type": "heading",
     "level": 3,
     "metadata": {},
     "source": [
      "Import modules"
     ]
    },
    {
     "cell_type": "code",
     "collapsed": false,
     "input": [
      "%matplotlib inline"
     ],
     "language": "python",
     "metadata": {},
     "outputs": [],
     "prompt_number": 1
    },
    {
     "cell_type": "code",
     "collapsed": false,
     "input": [
      "import pandas as pd\n",
      "import pandas.io.data as web\n",
      "import datetime\n",
      "import dateutil.relativedelta\n",
      "import matplotlib.pyplot as plt\n",
      "import numpy as np\n",
      "import scipy\n",
      "import scipy.interpolate\n",
      "import sklearn.ensemble\n",
      "import sklearn.svm"
     ],
     "language": "python",
     "metadata": {},
     "outputs": [],
     "prompt_number": 2
    },
    {
     "cell_type": "heading",
     "level": 3,
     "metadata": {},
     "source": [
      "Set variables"
     ]
    },
    {
     "cell_type": "code",
     "collapsed": false,
     "input": [
      "assets = ['SCHA','SCHB','SCHC']    #Define list of assets to evaluate\n",
      "PredictionHorizon = 7              #PredictionHorizon in calendar days\n",
      "threshold = 0.01\n",
      "#start_dt =datetime.datetime.now() - dateutil.relativedelta.relativedelta(years=7)     # start date of price history\n",
      "start_dt = datetime.datetime(2007,1,1)  # start date of price history\n",
      "end_dt = datetime.datetime.now()      # end date of price history"
     ],
     "language": "python",
     "metadata": {},
     "outputs": [],
     "prompt_number": 3
    },
    {
     "cell_type": "heading",
     "level": 1,
     "metadata": {},
     "source": [
      "Get Data"
     ]
    },
    {
     "cell_type": "markdown",
     "metadata": {},
     "source": [
      "\n",
      "# Get price history for each asset, derive fields, create labels\n",
      "for asset in assets:\n",
      "    \n",
      "    # Setup framework\n",
      "    Prices = pd.DataFrame(index=pd.date_range(start=start_dt,end=end_dt,freq='h'))\n",
      "    Prices.sort_index(inplace=True)\n",
      "    Prices['dummy']=1\n",
      "    \n",
      "    temp = web.DataReader(asset,'yahoo',start=start_dt,end=end_dt)                 #Pull asset's data from Yahoo\n",
      "    temp_opens = pd.DataFrame(temp['Open'])                                        #Parse open and close prices\n",
      "    temp_opens['Price'] = temp_opens['Open']\n",
      "    del temp_opens['Open']\n",
      "    temp_opens.index = temp_opens.index + pd.DateOffset(hours=9.5)\n",
      "    temp_closes = pd.DataFrame(temp['Close'])\n",
      "    temp_closes['Price'] = temp_closes['Close']\n",
      "    del temp_closes['Close']\n",
      "    temp_closes.index = temp_closes.index + pd.DateOffset(hours=16)\n",
      "    temp_final = pd.concat([temp_opens,temp_closes])                               #Combine open and close data\n",
      "    temp_final.sort_index(inplace=True)\n",
      "    Prices = Prices.merge(temp_final,how='outer',left_index=True,right_index=True) #Join to Prices table\n",
      "    Prices.sort_index(inplace=True)\n",
      "    Prices['Price'] = Prices['Price'].interpolate(method='linear')                #Interpolate missing values\n",
      "    #Prices['Price'].interpolate(method='spline',order=3,inplace=True)                #Interpolate missing values\n",
      "    Prices.dropna(axis=0,inplace=True)                                             #Drop any records with NULLs\n",
      "    \n",
      "    #Make sure 9:30 timestamps removed\n",
      "    #print 'Number of records at 9:30: ' + str(len(Prices.at_time('9:30')))\n",
      "    \n",
      "    x = np.asarray(range(len(Prices.index)))\n",
      "    y = np.asarray(Prices['Price'].values)\n",
      "    tck = scipy.interpolate.splrep(x, y)\n",
      "    d1 = scipy.interpolate.splev(x, tck, der=1)                                    #Calculate 1st derivative\n",
      "    d2 = scipy.interpolate.splev(x, tck, der=2)                                    #Calculate 2nd derivative\n",
      "    Prices['D1']=d1\n",
      "    Prices['D2']=d2\n",
      "    Prices['SMA10']=pd.rolling_mean(Prices['Price'],window=10*24)        #Calculate 10 day moving average\n",
      "    Prices['SMA20']=pd.rolling_mean(Prices['Price'],window=20*24)        #Calculate 20 day moving average\n",
      "    Prices['H30D']=pd.rolling_max(Prices['Price'],window=30*24)          #Calculate 30 day high\n",
      "    Prices['L30D']=pd.rolling_min(Prices['Price'],window=30*24)          #Calculate 30 day low\n",
      "    Prices['EMA26']=pd.ewma(Prices['Price'],span=26*24)                  #Calculate 26 day exponential moving average\n",
      "    Prices['EMA12']=pd.ewma(Prices['Price'],span=12*24)                  #Calculate 12 day exponential moving average\n",
      "    Prices['EMA9']=pd.ewma(Prices['Price'],span=9*24)                    #Calculate 9 day exponential moving average\n",
      "    Prices['MACD1']=Prices['EMA12']-Prices['EMA26']\n",
      "    Prices['MACD']=(Prices['MACD1'] - Prices['EMA9']) / Prices['EMA9']\n",
      "    Prices['Dist_H30D']=(Prices['Price'] - Prices['H30D']) / Prices['H30D']\n",
      "    Prices['Dist_L30D']=(Prices['Price'] - Prices['L30D']) / Prices['L30D']\n",
      "    Prices['RelHighOrLow'] = Prices['Dist_L30D'] + Prices['Dist_H30D']\n",
      "    \n",
      "    Prices['PriorDayPrice']=Prices['Price'].shift(24)\n",
      "    Prices['IntradayChange'] = (Prices['Price'] - Prices['PriorDayPrice']) / Prices['PriorDayPrice']\n",
      "    Prices['MV4']=pd.rolling_var(Prices['IntradayChange'],window=4*24)\n",
      "    Prices['MV7']=pd.rolling_var(Prices['IntradayChange'],window=7*24) \n",
      "    \n",
      "    Prices['PriceUp']=0\n",
      "    Prices['PriceDown']=0\n",
      "    Prices['PriceDown'].loc[Prices.PriorDayPrice > Prices.Price]=1\n",
      "    Prices['PriceUp'].loc[Prices.PriorDayPrice < Prices.Price]=1\n",
      "    Prices['RSI14'] = 100. - 100. / (1 + ( pd.rolling_mean(Prices['PriceUp'],window=14*24) / pd.rolling_mean(Prices['PriceDown'],window=14*24)  ))\n",
      "    Prices['RSI7'] = 100. - 100. / (1 + ( pd.rolling_mean(Prices['PriceUp'],window=7*24) / pd.rolling_mean(Prices['PriceDown'],window=7*24)  ))\n",
      "    Prices['RSI4'] = 100. - 100. / (1 + ( pd.rolling_mean(Prices['PriceUp'],window=4*24) / pd.rolling_mean(Prices['PriceDown'],window=4*24)  ))\n",
      "    \n",
      "    # TODO: Still need to add date/time variables (e.g. day of month, etc.)\n",
      "    \n",
      "    #Create labels\n",
      "    Prices['Label_Price'] = Prices['Price'].shift(-24*PredictionHorizon)\n",
      "    Prices['Label_Variance'] = (Prices['Price'].shift(-24*PredictionHorizon) - Prices['Price']) / Prices['Price']\n",
      "    Prices['Label_Binom_Var'] = 0\n",
      "    Prices['Label_Binom_Var'].loc[Prices.Label_Variance >= threshold]=1\n",
      "    \n",
      "    \n",
      "    Prices.drop(['EMA26',                                         #Drop unneeded columns\n",
      "                 'EMA12',\n",
      "                 'EMA9',\n",
      "                 'PriorDayPrice',\n",
      "                 'PriceUp',\n",
      "                 'PriceDown',\n",
      "                 'MACD1'], \n",
      "                axis=1, inplace=True)\n",
      "    \n",
      "    Prices = Prices.truncate(after=pd.Series(temp_final.last('1H').index.to_datetime())[0])\n",
      "    #Prices.dropna(axis=0,inplace=True)                                                       #Drop any records with NULLs\n",
      "    Prices1 = Prices.at_time('1:00')\n",
      "    Prices13 = Prices.at_time('13:00')\n",
      "    Prices = pd.concat([Prices1,Prices13])\n",
      "    \n",
      "    #Assign to pandas panel\n",
      "    if asset == assets[0]:\n",
      "        PricesDictionary = {str(asset):Prices}\n",
      "    else:\n",
      "        PricesDictionary[asset] = Prices\n",
      "    \n",
      "    \n",
      "PricesPanel = pd.Panel.from_dict(PricesDictionary, orient='items')\n",
      "PricesPanel.to_hdf('store.h5',key='PricesPanel',mode='w')\n",
      "PricesPanel"
     ]
    },
    {
     "cell_type": "code",
     "collapsed": false,
     "input": [
      "PricesPanel = pd.read_hdf('store.h5',key='PricesPanel')\n"
     ],
     "language": "python",
     "metadata": {},
     "outputs": [
      {
       "output_type": "stream",
       "stream": "stderr",
       "text": [
        "C:\\Users\\NWB066\\AppData\\Local\\Continuum\\Anaconda\\lib\\site-packages\\pandas\\io\\pytables.py:528: DeprecationWarning: openFile() is pending deprecation, use open_file() instead. You may use the pt2to3 tool to update your source code.\n",
        "  self._handle = tables.openFile(self._path, self._mode, **kwargs)\n",
        "C:\\Users\\NWB066\\AppData\\Local\\Continuum\\Anaconda\\lib\\site-packages\\pandas\\io\\pytables.py:1044: DeprecationWarning: getNode() is pending deprecation, use get_node() instead. You may use the pt2to3 tool to update your source code.\n",
        "  return self._handle.getNode(self.root, key)\n"
       ]
      }
     ],
     "prompt_number": 4
    },
    {
     "cell_type": "code",
     "collapsed": false,
     "input": [
      "x=None\n",
      "del x\n",
      "y=None\n",
      "del y\n",
      "temp_opens=None\n",
      "del temp_opens\n",
      "temp_closes=None\n",
      "del temp_closes\n",
      "temp_final=None\n",
      "del temp_final\n",
      "temp=None\n",
      "del temp\n",
      "tck=None\n",
      "del tck\n",
      "d1=None\n",
      "del d1\n",
      "d2=None\n",
      "del d2\n",
      "Prices=None\n",
      "del Prices\n",
      "PricesDictionary=None\n",
      "del PricesDictionary\n",
      "\n",
      "print dir()"
     ],
     "language": "python",
     "metadata": {},
     "outputs": [
      {
       "output_type": "stream",
       "stream": "stdout",
       "text": [
        "['In', 'Out', 'PredictionHorizon', 'PricesPanel', '_', '__', '___', '__builtin__', '__builtins__', '__doc__', '__name__', '__package__', '_dh', '_i', '_i1', '_i2', '_i3', '_i4', '_i5', '_ih', '_ii', '_iii', '_oh', '_sh', 'assets', 'datetime', 'dateutil', 'end_dt', 'exit', 'get_ipython', 'np', 'pd', 'plt', 'quit', 'scipy', 'sklearn', 'start_dt', 'threshold', 'web']\n"
       ]
      }
     ],
     "prompt_number": 5
    },
    {
     "cell_type": "markdown",
     "metadata": {},
     "source": [
      "AllCols = PricesPanel[assets[0]].columns.values\n",
      "\n",
      "LabelCols = []\n",
      "for item in AllCols:\n",
      "    if item.startswith('Label'):\n",
      "        LabelCols.append(item)\n",
      "\n",
      "print LabelCols"
     ]
    },
    {
     "cell_type": "heading",
     "level": 1,
     "metadata": {},
     "source": [
      "Model"
     ]
    },
    {
     "cell_type": "code",
     "collapsed": false,
     "input": [
      "def run_model(model, WhichLabel, Resultant_Col_Name, sample_rate, incl_preds=False):\n",
      "    for asset in assets:\n",
      "        df=PricesPanel[asset].copy()\n",
      "        if incl_preds==True:\n",
      "            PredCols = df.filter(regex=\"Pred_\").columns.values\n",
      "        else: \n",
      "            PredCols = []\n",
      "        LabelCols = df.filter(regex=\"Label_\").columns.values\n",
      "        xbase = df.copy().dropna().drop(LabelCols,axis=1).drop(PredCols,axis=1).truncate(after=truncate_after)\n",
      "        sample_size = int(sample_rate*len(xbase.index))\n",
      "        xtrain = xbase.ix[sorted(np.random.choice(xbase.index,sample_size))]\n",
      "        ytrain = df.copy()[WhichLabel].ix[sorted(xtrain.index)]\n",
      "        model.fit(xtrain,ytrain)\n",
      "        to_predict = df.copy().drop(LabelCols,axis=1).dropna().drop(PredCols,axis=1)\n",
      "        rslt = model.predict(to_predict)\n",
      "        result = pd.DataFrame(rslt,index=to_predict.index, columns=[Resultant_Col_Name])\n",
      "        dummy = PricesPanel[asset].join(result,how='left')\n",
      "        PricesPanel[asset][Resultant_Col_Name] = dummy[Resultant_Col_Name]"
     ],
     "language": "python",
     "metadata": {},
     "outputs": [],
     "prompt_number": 6
    },
    {
     "cell_type": "code",
     "collapsed": false,
     "input": [
      "truncate_after = '12/31/2014'\n",
      "\n",
      "run_model(model=sklearn.ensemble.GradientBoostingRegressor(n_estimators=100, learning_rate=0.1, loss='huber', max_depth=8), WhichLabel='Label_Price', Resultant_Col_Name='Pred_Price_GBR1', sample_rate=0.4)\n",
      "run_model(model=sklearn.ensemble.GradientBoostingRegressor(n_estimators=100, learning_rate=0.1, loss='huber', max_depth=8), WhichLabel='Label_Binom_Var', Resultant_Col_Name='Pred_BinomVar_GBR1', sample_rate=0.4)\n",
      "run_model(model=sklearn.ensemble.GradientBoostingRegressor(n_estimators=100, learning_rate=0.1, loss='huber', max_depth=8), WhichLabel='Label_Variance', Resultant_Col_Name='Pred_Var_GBR1', sample_rate=0.4)\n",
      "\n",
      "run_model(model=sklearn.ensemble.GradientBoostingClassifier(n_estimators=100, learning_rate=0.1, loss='deviance', max_depth=8), WhichLabel='Label_Binom_Var', Resultant_Col_Name='Pred_BinomVar_GBC1', sample_rate=0.4)\n",
      "###--------------------------------------------------------------------------------------------------------------\n",
      "run_model(model=sklearn.ensemble.ExtraTreesRegressor(n_estimators=100, n_jobs=-1), WhichLabel='Label_Price', Resultant_Col_Name='Pred_Price_ETR1', sample_rate=0.4)\n",
      "run_model(model=sklearn.ensemble.ExtraTreesRegressor(n_estimators=100, n_jobs=-1), WhichLabel='Label_Binom_Var', Resultant_Col_Name='Pred_BinomVar_ETR1', sample_rate=0.4)\n",
      "run_model(model=sklearn.ensemble.ExtraTreesRegressor(n_estimators=100, n_jobs=-1), WhichLabel='Label_Variance', Resultant_Col_Name='Pred_Var_ETR1', sample_rate=0.4)\n",
      "\n",
      "run_model(model=sklearn.ensemble.ExtraTreesClassifier(n_estimators=100, n_jobs=-1), WhichLabel='Label_Binom_Var', Resultant_Col_Name='Pred_BinomVar_ETC1', sample_rate=0.4)\n",
      "###--------------------------------------------------------------------------------------------------------------\n",
      "run_model(model=sklearn.ensemble.AdaBoostRegressor(n_estimators=100, learning_rate=1), WhichLabel='Label_Price', Resultant_Col_Name='Pred_Price_ABR1', sample_rate=0.4)\n",
      "run_model(model=sklearn.ensemble.AdaBoostRegressor(n_estimators=100, learning_rate=1), WhichLabel='Label_Binom_Var', Resultant_Col_Name='Pred_BinomVar_ABR1', sample_rate=0.4)\n",
      "run_model(model=sklearn.ensemble.AdaBoostRegressor(n_estimators=100, learning_rate=1), WhichLabel='Label_Variance', Resultant_Col_Name='Pred_Var_ABR1', sample_rate=0.4)\n",
      "\n",
      "run_model(model=sklearn.ensemble.AdaBoostClassifier(n_estimators=100, learning_rate=1), WhichLabel='Label_Binom_Var', Resultant_Col_Name='Pred_BinomVar_ABC1', sample_rate=0.4)\n",
      "###--------------------------------------------------------------------------------------------------------------\n",
      "##run_model(model=sklearn.ensemble.BaggingRegressor(n_estimators=100, n_jobs=-1), WhichLabel='Label_Price', Resultant_Col_Name='Pred_Price_BgR1', sample_rate=0.4)\n",
      "##run_model(model=sklearn.ensemble.BaggingRegressor(n_estimators=100, n_jobs=-1), WhichLabel='Label_Binom_Var', Resultant_Col_Name='Pred_BinomVar_BgR1', sample_rate=0.4)\n",
      "##run_model(model=sklearn.ensemble.BaggingRegressor(n_estimators=100, n_jobs=-1), WhichLabel='Label_Variance', Resultant_Col_Name='Pred_Var_BgR1', sample_rate=0.4)\n",
      "\n",
      "##run_model(model=sklearn.ensemble.BaggingClassifier(n_estimators=100, n_jobs=-1), WhichLabel='Label_Binom_Var', Resultant_Col_Name='Pred_BinomVar_BgC1', sample_rate=0.4)\n",
      "###--------------------------------------------------------------------------------------------------------------\n",
      "run_model(model=sklearn.ensemble.RandomForestRegressor(n_estimators=100, n_jobs=-1), WhichLabel='Label_Price', Resultant_Col_Name='Pred_Price_RFR1', sample_rate=0.4)\n",
      "run_model(model=sklearn.ensemble.RandomForestRegressor(n_estimators=100, n_jobs=-1), WhichLabel='Label_Binom_Var', Resultant_Col_Name='Pred_BinomVar_RFR1', sample_rate=0.4)\n",
      "run_model(model=sklearn.ensemble.RandomForestRegressor(n_estimators=100, n_jobs=-1), WhichLabel='Label_Variance', Resultant_Col_Name='Pred_Var_RFR1', sample_rate=0.4)\n",
      "\n",
      "run_model(model=sklearn.ensemble.RandomForestClassifier(n_estimators=100, n_jobs=-1), WhichLabel='Label_Binom_Var', Resultant_Col_Name='Pred_BinomVar_RFC1', sample_rate=0.4)\n",
      "###--------------------------------------------------------------------------------------------------------------\n",
      "###--------------------------------------------------------------------------------------------------------------\n",
      "run_model(model=sklearn.svm.SVR(kernel='rbf', degree=4, cache_size=4000, epsilon=0.01), WhichLabel='Label_Price', Resultant_Col_Name='Pred_Price_SVR1', sample_rate=0.4)\n",
      "run_model(model=sklearn.svm.SVR(kernel='rbf', degree=4, cache_size=4000, epsilon=0.1), WhichLabel='Label_Binom_Var', Resultant_Col_Name='Pred_BinomVar_SVR1', sample_rate=0.4)\n",
      "run_model(model=sklearn.svm.SVR(kernel='rbf', degree=4, cache_size=4000, epsilon=0.000001), WhichLabel='Label_Variance', Resultant_Col_Name='Pred_Var_SVR1', sample_rate=0.4)\n",
      "\n",
      "run_model(model=sklearn.svm.SVC(kernel='rbf', degree=4, cache_size=4000, tol=0.1), WhichLabel='Label_Binom_Var', Resultant_Col_Name='Pred_BinomVar_SVC1', sample_rate=0.4)\n",
      "###--------------------------------------------------------------------------------------------------------------\n",
      "run_model(model=sklearn.svm.SVR(kernel='sigmoid', degree=4, cache_size=4000, epsilon=0.01), WhichLabel='Label_Price', Resultant_Col_Name='Pred_Price_SVR2', sample_rate=0.4)\n",
      "run_model(model=sklearn.svm.SVR(kernel='sigmoid', degree=4, cache_size=4000, epsilon=0.1), WhichLabel='Label_Binom_Var', Resultant_Col_Name='Pred_BinomVar_SVR2', sample_rate=0.4)\n",
      "run_model(model=sklearn.svm.SVR(kernel='sigmoid', degree=4, cache_size=4000, epsilon=0.000001), WhichLabel='Label_Variance', Resultant_Col_Name='Pred_Var_SVR2', sample_rate=0.4)\n",
      "\n",
      "run_model(model=sklearn.svm.SVC(kernel='sigmoid', degree=4, cache_size=4000, tol=0.1), WhichLabel='Label_Binom_Var', Resultant_Col_Name='Pred_BinomVar_SVC2', sample_rate=0.4)\n",
      "###--------------------------------------------------------------------------------------------------------------\n",
      "run_model(model=sklearn.svm.SVR(kernel='rbf', degree=5, cache_size=4000, epsilon=0.01), WhichLabel='Label_Price', Resultant_Col_Name='Pred_Price_SVR3', sample_rate=0.4)\n",
      "run_model(model=sklearn.svm.SVR(kernel='rbf', degree=5, cache_size=4000, epsilon=0.1), WhichLabel='Label_Binom_Var', Resultant_Col_Name='Pred_BinomVar_SVR3', sample_rate=0.4)\n",
      "run_model(model=sklearn.svm.SVR(kernel='rbf', degree=5, cache_size=4000, epsilon=0.000001), WhichLabel='Label_Variance', Resultant_Col_Name='Pred_Var_SVR3', sample_rate=0.4)\n",
      "\n",
      "run_model(model=sklearn.svm.SVC(kernel='rbf', degree=5, cache_size=4000, tol=0.1), WhichLabel='Label_Binom_Var', Resultant_Col_Name='Pred_BinomVar_SVC3', sample_rate=0.4)\n",
      "###--------------------------------------------------------------------------------------------------------------\n",
      "run_model(model=sklearn.svm.SVR(kernel='sigmoid', degree=5, cache_size=4000, epsilon=0.01), WhichLabel='Label_Price', Resultant_Col_Name='Pred_Price_SVR4', sample_rate=0.4)\n",
      "run_model(model=sklearn.svm.SVR(kernel='sigmoid', degree=5, cache_size=4000, epsilon=0.1), WhichLabel='Label_Binom_Var', Resultant_Col_Name='Pred_BinomVar_SVR4', sample_rate=0.4)\n",
      "run_model(model=sklearn.svm.SVR(kernel='sigmoid', degree=5, cache_size=4000, epsilon=0.000001), WhichLabel='Label_Variance', Resultant_Col_Name='Pred_Var_SVR4', sample_rate=0.4)\n",
      "\n",
      "run_model(model=sklearn.svm.SVC(kernel='sigmoid', degree=5, cache_size=4000, tol=0.1), WhichLabel='Label_Binom_Var', Resultant_Col_Name='Pred_BinomVar_SVC4', sample_rate=0.4)\n",
      "\n",
      "\n"
     ],
     "language": "python",
     "metadata": {},
     "outputs": [],
     "prompt_number": 7
    },
    {
     "cell_type": "code",
     "collapsed": false,
     "input": [
      "#PricesPanel['SCHA'][['Label_Price','Pred_Price_GBR1','Pred_Price_ETR1','Pred_Price_ABR1','Pred_Price_RFR1','Pred_Price_SVR1']].tail(20)\n",
      "#PricesPanel['SCHA'][['Label_Binom_Var','Pred_BinomVar_GBR1','Pred_BinomVar_ETR1','Pred_BinomVar_ABR1','Pred_BinomVar_RFR1','Pred_BinomVar_SVR1','Pred_BinomVar_SVC2']].tail(50)\n"
     ],
     "language": "python",
     "metadata": {},
     "outputs": [],
     "prompt_number": 8
    },
    {
     "cell_type": "code",
     "collapsed": false,
     "input": [
      "plt.plot(PricesPanel['SCHA'].truncate(before='12/31/2014').index,PricesPanel['SCHA'][['Label_Price','Pred_Price_GBR1','Pred_Price_ETR1','Pred_Price_ABR1','Pred_Price_RFR1']].truncate(before='12/31/2014'))\n",
      "plt.legend(['Label_Price','Pred_Price_GBR1','Pred_Price_ETR1','Pred_Price_ABR1','Pred_Price_RFR1'], loc=2)"
     ],
     "language": "python",
     "metadata": {},
     "outputs": [
      {
       "metadata": {},
       "output_type": "pyout",
       "prompt_number": 9,
       "text": [
        "<matplotlib.legend.Legend at 0x1811ffd0>"
       ]
      },
      {
       "metadata": {},
       "output_type": "display_data",
       "png": "[encoded data removed]",
       "text": [
        "<matplotlib.figure.Figure at 0x1811fa90>"
       ]
      }
     ],
     "prompt_number": 9
    },
    {
     "cell_type": "code",
     "collapsed": false,
     "input": [],
     "language": "python",
     "metadata": {},
     "outputs": [],
     "prompt_number": 9
    }
   ],
   "metadata": {}
  }
 ]
}