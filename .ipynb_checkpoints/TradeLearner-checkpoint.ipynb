{
 "metadata": {
  "name": "",
  "signature": "sha256:ac882cd13febc90996cb122c3c04f4c25ae1f374961327abc509efbe1c820dc9"
 },
 "nbformat": 3,
 "nbformat_minor": 0,
 "worksheets": [
  {
   "cells": [
    {
     "cell_type": "heading",
     "level": 1,
     "metadata": {},
     "source": [
      "Setup"
     ]
    },
    {
     "cell_type": "heading",
     "level": 3,
     "metadata": {},
     "source": [
      "Import modules"
     ]
    },
    {
     "cell_type": "code",
     "collapsed": false,
     "input": [
      "%matplotlib inline"
     ],
     "language": "python",
     "metadata": {},
     "outputs": [],
     "prompt_number": 1
    },
    {
     "cell_type": "code",
     "collapsed": false,
     "input": [
      "import pandas as pd\n",
      "import pandas.io.data as web\n",
      "import datetime\n",
      "import dateutil.relativedelta\n",
      "import matplotlib.pyplot as plt\n",
      "import numpy as np\n",
      "import scipy\n",
      "import scipy.interpolate\n",
      "import sklearn.ensemble"
     ],
     "language": "python",
     "metadata": {},
     "outputs": [],
     "prompt_number": 2
    },
    {
     "cell_type": "heading",
     "level": 3,
     "metadata": {},
     "source": [
      "Set variables"
     ]
    },
    {
     "cell_type": "code",
     "collapsed": false,
     "input": [
      "assets = ['SCHA','SCHB','SCHC']    #Define list of assets to evaluate\n",
      "PredictionHorizon = 7              #PredictionHorizon in calendar days\n",
      "threshold = 0.01\n",
      "#start_dt =datetime.datetime.now() - dateutil.relativedelta.relativedelta(years=7)     # start date of price history\n",
      "start_dt = datetime.datetime(2007,1,1)  # start date of price history\n",
      "end_dt = datetime.datetime.now()      # end date of price history"
     ],
     "language": "python",
     "metadata": {},
     "outputs": [],
     "prompt_number": 3
    },
    {
     "cell_type": "heading",
     "level": 1,
     "metadata": {},
     "source": [
      "Get Data"
     ]
    },
    {
     "cell_type": "code",
     "collapsed": false,
     "input": [
      "\n",
      "# Get price history for each asset\n",
      "for asset in assets:\n",
      "    \n",
      "    # Setup framework\n",
      "    Prices = pd.DataFrame(index=pd.date_range(start=start_dt,end=end_dt,freq='h'))\n",
      "    Prices.sort_index(inplace=True)\n",
      "    Prices['dummy']=1\n",
      "    \n",
      "    temp = web.DataReader(asset,'yahoo',start=start_dt,end=end_dt)                 #Pull asset's data from Yahoo\n",
      "    temp_opens = pd.DataFrame(temp['Open'])                                        #Parse open and close prices\n",
      "    temp_opens['Price'] = temp_opens['Open']\n",
      "    del temp_opens['Open']\n",
      "    temp_opens.index = temp_opens.index + pd.DateOffset(hours=9.5)\n",
      "    temp_closes = pd.DataFrame(temp['Close'])\n",
      "    temp_closes['Price'] = temp_closes['Close']\n",
      "    del temp_closes['Close']\n",
      "    temp_closes.index = temp_closes.index + pd.DateOffset(hours=16)\n",
      "    temp_final = pd.concat([temp_opens,temp_closes])                               #Combine open and close data\n",
      "    temp_final.sort_index(inplace=True)\n",
      "    Prices = Prices.merge(temp_final,how='outer',left_index=True,right_index=True) #Join to Prices table\n",
      "    Prices.sort_index(inplace=True)\n",
      "    Prices['Price'].interpolate(method='linear',inplace=True)                #Interpolate missing values\n",
      "    #Prices['Price'].interpolate(method='spline',order=3,inplace=True)                #Interpolate missing values\n",
      "    Prices.dropna(axis=0,inplace=True)                                             #Drop any records with NULLs\n",
      "    \n",
      "    #Make sure 9:30 timestamps removed\n",
      "    #print 'Number of records at 9:30: ' + str(len(Prices.at_time('9:30')))\n",
      "    \n",
      "    x = np.asarray(range(len(Prices.index)))\n",
      "    y = np.asarray(Prices['Price'].values)\n",
      "    tck = scipy.interpolate.splrep(x, y)\n",
      "    d1 = scipy.interpolate.splev(x, tck, der=1)                                    #Calculate 1st derivative\n",
      "    d2 = scipy.interpolate.splev(x, tck, der=2)                                    #Calculate 2nd derivative\n",
      "    Prices['D1']=d1\n",
      "    Prices['D2']=d2\n",
      "    Prices['SMA10']=pd.rolling_mean(Prices['Price'],window=10*24)        #Calculate 10 day moving average\n",
      "    Prices['SMA20']=pd.rolling_mean(Prices['Price'],window=20*24)        #Calculate 20 day moving average\n",
      "    Prices['H30D']=pd.rolling_max(Prices['Price'],window=30*24)          #Calculate 30 day high\n",
      "    Prices['L30D']=pd.rolling_min(Prices['Price'],window=30*24)          #Calculate 30 day low\n",
      "    Prices['EMA26']=pd.ewma(Prices['Price'],span=26*24)                  #Calculate 26 day exponential moving average\n",
      "    Prices['EMA12']=pd.ewma(Prices['Price'],span=12*24)                  #Calculate 12 day exponential moving average\n",
      "    Prices['EMA9']=pd.ewma(Prices['Price'],span=9*24)                    #Calculate 9 day exponential moving average\n",
      "    Prices['MACD1']=Prices['EMA12']-Prices['EMA26']\n",
      "    Prices['MACD']=(Prices['MACD1'] - Prices['EMA9']) / Prices['EMA9']\n",
      "    Prices['Dist_H30D']=(Prices['Price'] - Prices['H30D']) / Prices['H30D']\n",
      "    Prices['Dist_L30D']=(Prices['Price'] - Prices['L30D']) / Prices['L30D']\n",
      "    Prices['RelHighOrLow'] = Prices['Dist_L30D'] + Prices['Dist_H30D']\n",
      "    \n",
      "    Prices['PriorDayPrice']=Prices['Price'].shift(24)\n",
      "    Prices['IntradayChange'] = (Prices['Price'] - Prices['PriorDayPrice']) / Prices['PriorDayPrice']\n",
      "    Prices['MV4']=pd.rolling_var(Prices['IntradayChange'],window=4*24)\n",
      "    Prices['MV7']=pd.rolling_var(Prices['IntradayChange'],window=7*24) \n",
      "    \n",
      "    Prices['PriceUp']=0\n",
      "    Prices['PriceDown']=0\n",
      "    Prices['PriceDown'].loc[Prices.PriorDayPrice > Prices.Price]=1\n",
      "    Prices['PriceUp'].loc[Prices.PriorDayPrice < Prices.Price]=1\n",
      "    Prices['RSI14'] = 100. - 100. / (1 + ( pd.rolling_mean(Prices['PriceUp'],window=14*24) / pd.rolling_mean(Prices['PriceDown'],window=14*24)  ))\n",
      "    Prices['RSI7'] = 100. - 100. / (1 + ( pd.rolling_mean(Prices['PriceUp'],window=7*24) / pd.rolling_mean(Prices['PriceDown'],window=7*24)  ))\n",
      "    Prices['RSI4'] = 100. - 100. / (1 + ( pd.rolling_mean(Prices['PriceUp'],window=4*24) / pd.rolling_mean(Prices['PriceDown'],window=4*24)  ))\n",
      "    \n",
      "    # ALERT: Still need to add date/time variables (e.g. day of month, etc.)\n",
      "    \n",
      "    #Create labels\n",
      "    Prices['Label_Price'] = Prices['Price'].shift(-24*PredictionHorizon)\n",
      "    Prices['Label_Variance'] = (Prices['Price'].shift(-24*PredictionHorizon) - Prices['Price']) / Prices['Price']\n",
      "    Prices['Label_Binom_Var'] = 0\n",
      "    Prices['Label_Binom_Var'].loc[Prices.Label_Variance >= threshold]=1\n",
      "    \n",
      "    \n",
      "    Prices.drop(['EMA26',                                         #Drop unneeded columns\n",
      "                 'EMA12',\n",
      "                 'EMA9',\n",
      "                 'PriorDayPrice',\n",
      "                 'PriceUp',\n",
      "                 'PriceDown',\n",
      "                 'MACD1'], \n",
      "                axis=1, inplace=True)\n",
      "    \n",
      "    Prices = Prices.truncate(after=pd.Series(temp_final.last('1H').index.to_datetime())[0])\n",
      "    Prices.dropna(axis=0,inplace=True)                                                       #Drop any records with NULLs\n",
      "    Prices1 = Prices.at_time('1:00')\n",
      "    Prices13 = Prices.at_time('13:00')\n",
      "    Prices = pd.concat([Prices1,Prices13])\n",
      "    \n",
      "    #Assign to pandas panel\n",
      "    if asset == assets[0]:\n",
      "        PricesDictionary = {str(asset):Prices}\n",
      "    else:\n",
      "        PricesDictionary[asset] = Prices\n",
      "    \n",
      "    \n",
      "PricesPanel = pd.Panel.from_dict(PricesDictionary, orient='items')\n",
      "\n",
      "PricesPanel"
     ],
     "language": "python",
     "metadata": {},
     "outputs": [
      {
       "metadata": {},
       "output_type": "pyout",
       "prompt_number": 5,
       "text": [
        "<class 'pandas.core.panel.Panel'>\n",
        "Dimensions: 3 (items) x 3881 (major_axis) x 21 (minor_axis)\n",
        "Items axis: SCHA to SCHC\n",
        "Major_axis axis: 2009-12-03 13:00:00 to 2015-03-27 13:00:00\n",
        "Minor_axis axis: dummy to Label_Binom_Var"
       ]
      }
     ],
     "prompt_number": 5
    },
    {
     "cell_type": "code",
     "collapsed": false,
     "input": [
      "plt.plot(PricesPanel['SCHA'].index,PricesPanel['SCHA']['Price'])"
     ],
     "language": "python",
     "metadata": {},
     "outputs": [
      {
       "metadata": {},
       "output_type": "pyout",
       "prompt_number": 20,
       "text": [
        "[<matplotlib.lines.Line2D at 0x16e6ad68>]"
       ]
      },
      {
       "metadata": {},
       "output_type": "display_data",
       "png": "[encoded data removed]",
       "text": [
        "<matplotlib.figure.Figure at 0x18f4c550>"
       ]
      }
     ],
     "prompt_number": 20
    },
    {
     "cell_type": "code",
     "collapsed": false,
     "input": [
      "x=None\n",
      "del x\n",
      "y=None\n",
      "del y\n",
      "temp_opens=None\n",
      "del temp_opens\n",
      "temp_closes=None\n",
      "del temp_closes\n",
      "temp_final=None\n",
      "del temp_final\n",
      "temp=None\n",
      "del temp\n",
      "tck=None\n",
      "del tck\n",
      "d1=None\n",
      "del d1\n",
      "d2=None\n",
      "del d2\n",
      "Prices=None\n",
      "del Prices\n",
      "PricesDictionary=None\n",
      "del PricesDictionary\n",
      "\n",
      "print dir()"
     ],
     "language": "python",
     "metadata": {},
     "outputs": []
    },
    {
     "cell_type": "heading",
     "level": 1,
     "metadata": {},
     "source": [
      "Model"
     ]
    },
    {
     "cell_type": "code",
     "collapsed": false,
     "input": [
      "RFreg = sklearn.ensemble.RandomForestRegressor(n_estimators=1000, n_jobs=-1)\n",
      "\n",
      "#to_model = PricesPanel['SCHA'].drop(['Label_Variance','Label_Binom_Var'],axis=1)\n",
      "\n",
      "RFreg.fit(PricesPanel['SCHA'][:datetime.datetime(2014, 8, 31, 0,0)].drop(['Label_Price','Label_Variance','Label_Binom_Var'],axis=1), PricesPanel['SCHA'][:datetime.datetime(2014, 8, 31, 0,0)]['Label_Price'])\n",
      "result = pd.DataFrame(RFreg.predict(PricesPanel['SCHA'][datetime.datetime(2014, 8, 31, 0,0):].drop(['Label_Price','Label_Variance','Label_Binom_Var'],axis=1)))\n",
      "result.tail(10)"
     ],
     "language": "python",
     "metadata": {},
     "outputs": [
      {
       "html": [
        "<div style=\"max-height:1000px;max-width:1500px;overflow:auto;\">\n",
        "<table border=\"1\" class=\"dataframe\">\n",
        "  <thead>\n",
        "    <tr style=\"text-align: right;\">\n",
        "      <th></th>\n",
        "      <th>0</th>\n",
        "    </tr>\n",
        "  </thead>\n",
        "  <tbody>\n",
        "    <tr>\n",
        "      <th>408</th>\n",
        "      <td> 53.740381</td>\n",
        "    </tr>\n",
        "    <tr>\n",
        "      <th>409</th>\n",
        "      <td> 53.792494</td>\n",
        "    </tr>\n",
        "    <tr>\n",
        "      <th>410</th>\n",
        "      <td> 53.824347</td>\n",
        "    </tr>\n",
        "    <tr>\n",
        "      <th>411</th>\n",
        "      <td> 53.886969</td>\n",
        "    </tr>\n",
        "    <tr>\n",
        "      <th>412</th>\n",
        "      <td> 53.934850</td>\n",
        "    </tr>\n",
        "    <tr>\n",
        "      <th>413</th>\n",
        "      <td> 53.901998</td>\n",
        "    </tr>\n",
        "    <tr>\n",
        "      <th>414</th>\n",
        "      <td> 53.633196</td>\n",
        "    </tr>\n",
        "    <tr>\n",
        "      <th>415</th>\n",
        "      <td> 53.674918</td>\n",
        "    </tr>\n",
        "    <tr>\n",
        "      <th>416</th>\n",
        "      <td> 53.467631</td>\n",
        "    </tr>\n",
        "    <tr>\n",
        "      <th>417</th>\n",
        "      <td> 53.490673</td>\n",
        "    </tr>\n",
        "  </tbody>\n",
        "</table>\n",
        "</div>"
       ],
       "metadata": {},
       "output_type": "pyout",
       "prompt_number": 26,
       "text": [
        "             0\n",
        "408  53.740381\n",
        "409  53.792494\n",
        "410  53.824347\n",
        "411  53.886969\n",
        "412  53.934850\n",
        "413  53.901998\n",
        "414  53.633196\n",
        "415  53.674918\n",
        "416  53.467631\n",
        "417  53.490673"
       ]
      }
     ],
     "prompt_number": 26
    },
    {
     "cell_type": "code",
     "collapsed": false,
     "input": [
      "RFreg = sklearn.ensemble.RandomForestRegressor(n_estimators=100, n_jobs=-1)\n",
      "\n",
      "#to_model = PricesPanel['SCHA'].drop(['Label_Variance','Label_Binom_Var'],axis=1)\n",
      "\n",
      "RFreg.fit(PricesPanel['SCHA'].drop(['Label_Price','Label_Variance','Label_Binom_Var'],axis=1), PricesPanel['SCHA']['Label_Price'])\n",
      "PricesPanel['SCHA']['RFR1'] = RFreg.predict(PricesPanel['SCHA'].drop(['Label_Price','Label_Variance','Label_Binom_Var'],axis=1))\n",
      "plt.plot(PricesPanel['SCHA']['Label_Price'],PricesPanel['SCHA']['RFR1'],'x')"
     ],
     "language": "python",
     "metadata": {},
     "outputs": [
      {
       "metadata": {},
       "output_type": "pyout",
       "prompt_number": 28,
       "text": [
        "[<matplotlib.lines.Line2D at 0x1a0be2b0>]"
       ]
      },
      {
       "metadata": {},
       "output_type": "display_data",
       "png": "[encoded data removed]",
       "text": [
        "<matplotlib.figure.Figure at 0x18edf8d0>"
       ]
      }
     ],
     "prompt_number": 28
    },
    {
     "cell_type": "code",
     "collapsed": false,
     "input": [
      "plt.plot(PricesPanel['SCHA'][datetime.datetime(2014, 8, 31, 0,0):]['Label_Price'],result,'x')"
     ],
     "language": "python",
     "metadata": {},
     "outputs": [
      {
       "metadata": {},
       "output_type": "pyout",
       "prompt_number": 27,
       "text": [
        "[<matplotlib.lines.Line2D at 0x1a835668>]"
       ]
      },
      {
       "metadata": {},
       "output_type": "display_data",
       "png": "[encoded data removed]",
       "text": [
        "<matplotlib.figure.Figure at 0x2819e160>"
       ]
      }
     ],
     "prompt_number": 27
    },
    {
     "cell_type": "code",
     "collapsed": false,
     "input": [],
     "language": "python",
     "metadata": {},
     "outputs": []
    }
   ],
   "metadata": {}
  }
 ]
}