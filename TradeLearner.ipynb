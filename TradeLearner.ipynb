{
 "metadata": {
  "name": "",
  "signature": "sha256:fbd2c8372b4c12a2e17881a7a7b04ca4c978808f221053ab76eb04b9ca3fae30"
 },
 "nbformat": 3,
 "nbformat_minor": 0,
 "worksheets": [
  {
   "cells": [
    {
     "cell_type": "heading",
     "level": 1,
     "metadata": {},
     "source": [
      "Setup"
     ]
    },
    {
     "cell_type": "code",
     "collapsed": false,
     "input": [
      "%matplotlib inline"
     ],
     "language": "python",
     "metadata": {},
     "outputs": [],
     "prompt_number": 1
    },
    {
     "cell_type": "code",
     "collapsed": false,
     "input": [
      "import pandas as pd\n",
      "import pandas.io.data as web\n",
      "import datetime\n",
      "import scipy\n",
      "import matplotlib.pyplot as plt"
     ],
     "language": "python",
     "metadata": {},
     "outputs": [],
     "prompt_number": 2
    },
    {
     "cell_type": "code",
     "collapsed": false,
     "input": [
      "assets = ['AAPL','GOOG']    #Define list of assets to evaluate"
     ],
     "language": "python",
     "metadata": {},
     "outputs": [],
     "prompt_number": 3
    },
    {
     "cell_type": "heading",
     "level": 1,
     "metadata": {},
     "source": [
      "Get Data"
     ]
    },
    {
     "cell_type": "code",
     "collapsed": false,
     "input": [
      "start_dt = datetime.datetime(2014,1,1)  # start date of price history\n",
      "end_dt = datetime.datetime.now()      # end date of price history"
     ],
     "language": "python",
     "metadata": {},
     "outputs": [],
     "prompt_number": 4
    },
    {
     "cell_type": "heading",
     "level": 3,
     "metadata": {},
     "source": [
      "Setup framework"
     ]
    },
    {
     "cell_type": "code",
     "collapsed": false,
     "input": [
      "Prices = pd.DataFrame(index=pd.date_range(start=start_dt,end=end_dt,freq='h'))\n",
      "\n",
      "\n",
      "#opns = Prices.copy()\n",
      "#opns.index = opns.index + pd.DateOffset(hours=9.5)\n",
      "#cls = Prices.copy()\n",
      "#cls.index = cls.index + pd.DateOffset(hours=16)\n",
      "\n",
      "#midnight = Prices.copy()\n",
      "#midnight.index = midnight.index + pd.DateOffset(hours=0.0)\n",
      "#noon = Prices.copy()\n",
      "#noon.index = noon.index + pd.DateOffset(hours=12)\n",
      "\n",
      "#Prices = pd.concat([opns,cls,midnight,noon])\n",
      "Prices.sort_index(inplace=True)\n",
      "Prices['dummy']=1\n",
      "Prices.head(5)"
     ],
     "language": "python",
     "metadata": {},
     "outputs": [
      {
       "html": [
        "<div style=\"max-height:1000px;max-width:1500px;overflow:auto;\">\n",
        "<table border=\"1\" class=\"dataframe\">\n",
        "  <thead>\n",
        "    <tr style=\"text-align: right;\">\n",
        "      <th></th>\n",
        "      <th>dummy</th>\n",
        "    </tr>\n",
        "  </thead>\n",
        "  <tbody>\n",
        "    <tr>\n",
        "      <th>2014-01-01 00:00:00</th>\n",
        "      <td> 1</td>\n",
        "    </tr>\n",
        "    <tr>\n",
        "      <th>2014-01-01 01:00:00</th>\n",
        "      <td> 1</td>\n",
        "    </tr>\n",
        "    <tr>\n",
        "      <th>2014-01-01 02:00:00</th>\n",
        "      <td> 1</td>\n",
        "    </tr>\n",
        "    <tr>\n",
        "      <th>2014-01-01 03:00:00</th>\n",
        "      <td> 1</td>\n",
        "    </tr>\n",
        "    <tr>\n",
        "      <th>2014-01-01 04:00:00</th>\n",
        "      <td> 1</td>\n",
        "    </tr>\n",
        "  </tbody>\n",
        "</table>\n",
        "</div>"
       ],
       "metadata": {},
       "output_type": "pyout",
       "prompt_number": 5,
       "text": [
        "                     dummy\n",
        "2014-01-01 00:00:00      1\n",
        "2014-01-01 01:00:00      1\n",
        "2014-01-01 02:00:00      1\n",
        "2014-01-01 03:00:00      1\n",
        "2014-01-01 04:00:00      1"
       ]
      }
     ],
     "prompt_number": 5
    },
    {
     "cell_type": "heading",
     "level": 3,
     "metadata": {},
     "source": [
      "Get asset prices"
     ]
    },
    {
     "cell_type": "code",
     "collapsed": false,
     "input": [
      "for asset in assets:\n",
      "    temp = web.DataReader(asset,'yahoo',start=start_dt,end=end_dt)\n",
      "    temp_opens = pd.DataFrame(temp['Open'])\n",
      "    temp_opens['Price'] = temp_opens['Open']\n",
      "    del temp_opens['Open']\n",
      "    temp_opens.index = temp_opens.index + pd.DateOffset(hours=9.5)\n",
      "    temp_closes = pd.DataFrame(temp['Close'])\n",
      "    temp_closes['Price'] = temp_closes['Close']\n",
      "    del temp_closes['Close']\n",
      "    temp_closes.index = temp_closes.index + pd.DateOffset(hours=16)\n",
      "    temp_final = pd.concat([temp_opens,temp_closes])\n",
      "    temp_final.sort_index(inplace=True)\n",
      "    temp_final[asset] = temp_final['Price']\n",
      "    del temp_final['Price']\n",
      "    Prices = Prices.merge(temp_final,how='outer',left_index=True,right_index=True)\n",
      "Prices.head(4)"
     ],
     "language": "python",
     "metadata": {},
     "outputs": [
      {
       "html": [
        "<div style=\"max-height:1000px;max-width:1500px;overflow:auto;\">\n",
        "<table border=\"1\" class=\"dataframe\">\n",
        "  <thead>\n",
        "    <tr style=\"text-align: right;\">\n",
        "      <th></th>\n",
        "      <th>dummy</th>\n",
        "      <th>AAPL</th>\n",
        "      <th>GOOG</th>\n",
        "    </tr>\n",
        "  </thead>\n",
        "  <tbody>\n",
        "    <tr>\n",
        "      <th>2014-01-01 00:00:00</th>\n",
        "      <td> 1</td>\n",
        "      <td>NaN</td>\n",
        "      <td>NaN</td>\n",
        "    </tr>\n",
        "    <tr>\n",
        "      <th>2014-01-01 01:00:00</th>\n",
        "      <td> 1</td>\n",
        "      <td>NaN</td>\n",
        "      <td>NaN</td>\n",
        "    </tr>\n",
        "    <tr>\n",
        "      <th>2014-01-01 02:00:00</th>\n",
        "      <td> 1</td>\n",
        "      <td>NaN</td>\n",
        "      <td>NaN</td>\n",
        "    </tr>\n",
        "    <tr>\n",
        "      <th>2014-01-01 03:00:00</th>\n",
        "      <td> 1</td>\n",
        "      <td>NaN</td>\n",
        "      <td>NaN</td>\n",
        "    </tr>\n",
        "  </tbody>\n",
        "</table>\n",
        "</div>"
       ],
       "metadata": {},
       "output_type": "pyout",
       "prompt_number": 6,
       "text": [
        "                     dummy  AAPL  GOOG\n",
        "2014-01-01 00:00:00      1   NaN   NaN\n",
        "2014-01-01 01:00:00      1   NaN   NaN\n",
        "2014-01-01 02:00:00      1   NaN   NaN\n",
        "2014-01-01 03:00:00      1   NaN   NaN"
       ]
      }
     ],
     "prompt_number": 6
    },
    {
     "cell_type": "heading",
     "level": 3,
     "metadata": {},
     "source": [
      "Interpolate NaNs"
     ]
    },
    {
     "cell_type": "code",
     "collapsed": false,
     "input": [
      "Prices.interpolate(method='spline',order=3,inplace=True)\n",
      "\n",
      "Prices[Prices].tail(20)"
     ],
     "language": "python",
     "metadata": {},
     "outputs": [
      {
       "html": [
        "<div style=\"max-height:1000px;max-width:1500px;overflow:auto;\">\n",
        "<table border=\"1\" class=\"dataframe\">\n",
        "  <thead>\n",
        "    <tr style=\"text-align: right;\">\n",
        "      <th></th>\n",
        "      <th>dummy</th>\n",
        "      <th>AAPL</th>\n",
        "      <th>GOOG</th>\n",
        "    </tr>\n",
        "  </thead>\n",
        "  <tbody>\n",
        "    <tr>\n",
        "      <th>2014-12-30 05:00:00</th>\n",
        "      <td> 1</td>\n",
        "      <td> 113.390684</td>\n",
        "      <td> 528.092503</td>\n",
        "    </tr>\n",
        "    <tr>\n",
        "      <th>2014-12-30 06:00:00</th>\n",
        "      <td> 1</td>\n",
        "      <td> 113.363560</td>\n",
        "      <td> 528.115707</td>\n",
        "    </tr>\n",
        "    <tr>\n",
        "      <th>2014-12-30 07:00:00</th>\n",
        "      <td> 1</td>\n",
        "      <td> 113.335458</td>\n",
        "      <td> 528.171425</td>\n",
        "    </tr>\n",
        "    <tr>\n",
        "      <th>2014-12-30 08:00:00</th>\n",
        "      <td> 1</td>\n",
        "      <td> 113.306368</td>\n",
        "      <td> 528.260936</td>\n",
        "    </tr>\n",
        "    <tr>\n",
        "      <th>2014-12-30 09:00:00</th>\n",
        "      <td> 1</td>\n",
        "      <td> 113.276279</td>\n",
        "      <td> 528.385520</td>\n",
        "    </tr>\n",
        "    <tr>\n",
        "      <th>2014-12-30 09:30:00</th>\n",
        "      <td> 1</td>\n",
        "      <td> 113.650000</td>\n",
        "      <td> 528.370000</td>\n",
        "    </tr>\n",
        "    <tr>\n",
        "      <th>2014-12-30 10:00:00</th>\n",
        "      <td> 1</td>\n",
        "      <td> 113.245181</td>\n",
        "      <td> 528.546455</td>\n",
        "    </tr>\n",
        "    <tr>\n",
        "      <th>2014-12-30 11:00:00</th>\n",
        "      <td> 1</td>\n",
        "      <td> 113.213062</td>\n",
        "      <td> 528.745020</td>\n",
        "    </tr>\n",
        "    <tr>\n",
        "      <th>2014-12-30 12:00:00</th>\n",
        "      <td> 1</td>\n",
        "      <td> 113.179913</td>\n",
        "      <td> 528.982492</td>\n",
        "    </tr>\n",
        "    <tr>\n",
        "      <th>2014-12-30 13:00:00</th>\n",
        "      <td> 1</td>\n",
        "      <td> 113.145722</td>\n",
        "      <td> 529.260152</td>\n",
        "    </tr>\n",
        "    <tr>\n",
        "      <th>2014-12-30 14:00:00</th>\n",
        "      <td> 1</td>\n",
        "      <td> 113.110479</td>\n",
        "      <td> 529.579277</td>\n",
        "    </tr>\n",
        "    <tr>\n",
        "      <th>2014-12-30 15:00:00</th>\n",
        "      <td> 1</td>\n",
        "      <td> 113.074174</td>\n",
        "      <td> 529.941146</td>\n",
        "    </tr>\n",
        "    <tr>\n",
        "      <th>2014-12-30 16:00:00</th>\n",
        "      <td> 1</td>\n",
        "      <td> 112.520000</td>\n",
        "      <td> 530.390000</td>\n",
        "    </tr>\n",
        "    <tr>\n",
        "      <th>2014-12-30 17:00:00</th>\n",
        "      <td> 1</td>\n",
        "      <td> 112.998332</td>\n",
        "      <td> 530.798232</td>\n",
        "    </tr>\n",
        "    <tr>\n",
        "      <th>2014-12-30 18:00:00</th>\n",
        "      <td> 1</td>\n",
        "      <td> 112.958775</td>\n",
        "      <td> 531.296005</td>\n",
        "    </tr>\n",
        "    <tr>\n",
        "      <th>2014-12-30 19:00:00</th>\n",
        "      <td> 1</td>\n",
        "      <td> 112.918112</td>\n",
        "      <td> 531.841638</td>\n",
        "    </tr>\n",
        "    <tr>\n",
        "      <th>2014-12-30 20:00:00</th>\n",
        "      <td> 1</td>\n",
        "      <td> 112.876334</td>\n",
        "      <td> 532.436408</td>\n",
        "    </tr>\n",
        "    <tr>\n",
        "      <th>2014-12-30 21:00:00</th>\n",
        "      <td> 1</td>\n",
        "      <td> 112.833429</td>\n",
        "      <td> 533.081594</td>\n",
        "    </tr>\n",
        "    <tr>\n",
        "      <th>2014-12-30 22:00:00</th>\n",
        "      <td> 1</td>\n",
        "      <td> 112.789387</td>\n",
        "      <td> 533.778475</td>\n",
        "    </tr>\n",
        "    <tr>\n",
        "      <th>2014-12-30 23:00:00</th>\n",
        "      <td> 1</td>\n",
        "      <td> 112.744197</td>\n",
        "      <td> 534.528329</td>\n",
        "    </tr>\n",
        "  </tbody>\n",
        "</table>\n",
        "</div>"
       ],
       "metadata": {},
       "output_type": "pyout",
       "prompt_number": 23,
       "text": [
        "                     dummy        AAPL        GOOG\n",
        "2014-12-30 05:00:00      1  113.390684  528.092503\n",
        "2014-12-30 06:00:00      1  113.363560  528.115707\n",
        "2014-12-30 07:00:00      1  113.335458  528.171425\n",
        "2014-12-30 08:00:00      1  113.306368  528.260936\n",
        "2014-12-30 09:00:00      1  113.276279  528.385520\n",
        "2014-12-30 09:30:00      1  113.650000  528.370000\n",
        "2014-12-30 10:00:00      1  113.245181  528.546455\n",
        "2014-12-30 11:00:00      1  113.213062  528.745020\n",
        "2014-12-30 12:00:00      1  113.179913  528.982492\n",
        "2014-12-30 13:00:00      1  113.145722  529.260152\n",
        "2014-12-30 14:00:00      1  113.110479  529.579277\n",
        "2014-12-30 15:00:00      1  113.074174  529.941146\n",
        "2014-12-30 16:00:00      1  112.520000  530.390000\n",
        "2014-12-30 17:00:00      1  112.998332  530.798232\n",
        "2014-12-30 18:00:00      1  112.958775  531.296005\n",
        "2014-12-30 19:00:00      1  112.918112  531.841638\n",
        "2014-12-30 20:00:00      1  112.876334  532.436408\n",
        "2014-12-30 21:00:00      1  112.833429  533.081594\n",
        "2014-12-30 22:00:00      1  112.789387  533.778475\n",
        "2014-12-30 23:00:00      1  112.744197  534.528329"
       ]
      }
     ],
     "prompt_number": 23
    },
    {
     "cell_type": "code",
     "collapsed": false,
     "input": [
      "temp = Prices[800*8:860*8].copy()\n",
      "print str(Prices.shape)\n",
      "print str(temp.shape)\n",
      "plt.plot(temp.index,temp['GOOG'])"
     ],
     "language": "python",
     "metadata": {},
     "outputs": [
      {
       "output_type": "stream",
       "stream": "stdout",
       "text": [
        "(8987, 3)\n",
        "(480, 3)\n"
       ]
      },
      {
       "metadata": {},
       "output_type": "pyout",
       "prompt_number": 20,
       "text": [
        "[<matplotlib.lines.Line2D at 0x143a8eb8>]"
       ]
      },
      {
       "metadata": {},
       "output_type": "display_data",
       "png": "[encoded data removed]",
       "text": [
        "<matplotlib.figure.Figure at 0x14265a20>"
       ]
      }
     ],
     "prompt_number": 20
    },
    {
     "cell_type": "code",
     "collapsed": false,
     "input": [],
     "language": "python",
     "metadata": {},
     "outputs": []
    }
   ],
   "metadata": {}
  }
 ]
}