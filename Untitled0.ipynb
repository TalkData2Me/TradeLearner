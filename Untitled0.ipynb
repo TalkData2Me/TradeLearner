{
 "metadata": {
  "name": "",
  "signature": "sha256:70da26a29d22c1eae8bc90d71b84e6540772c9da84207d2b58b69f05276c26e5"
 },
 "nbformat": 3,
 "nbformat_minor": 0,
 "worksheets": [
  {
   "cells": [
    {
     "cell_type": "code",
     "collapsed": false,
     "input": [
      "%matplotlib inline"
     ],
     "language": "python",
     "metadata": {},
     "outputs": [],
     "prompt_number": 1
    },
    {
     "cell_type": "code",
     "collapsed": false,
     "input": [
      "#ipcluster start #run this when in command line to initialize parallelization\n",
      "from IPython import parallel\n",
      "clients = parallel.Client()\n",
      "dview = clients[:]\n",
      "dview.block = True\n",
      "num_nodes = len(clients)"
     ],
     "language": "python",
     "metadata": {},
     "outputs": [],
     "prompt_number": 3
    },
    {
     "cell_type": "code",
     "collapsed": false,
     "input": [
      "with dview.sync_imports():\n",
      "    import pandas as pd\n",
      "    import pandas.io.data as web\n",
      "    import datetime\n",
      "    import dateutil.relativedelta\n",
      "    import matplotlib.pyplot as plt\n",
      "    import numpy as np\n",
      "    import scipy\n",
      "    import scipy.interpolate\n",
      "    import sklearn.ensemble"
     ],
     "language": "python",
     "metadata": {},
     "outputs": [
      {
       "output_type": "stream",
       "stream": "stdout",
       "text": [
        "importing pandas on engine(s)\n",
        "importing pandas.io.data on engine(s)"
       ]
      },
      {
       "output_type": "stream",
       "stream": "stdout",
       "text": [
        "\n",
        "importing datetime on engine(s)\n",
        "importing dateutil.relativedelta on engine(s)\n",
        "importing matplotlib.pyplot on engine(s)\n",
        "importing numpy on engine(s)\n",
        "importing scipy on engine(s)"
       ]
      },
      {
       "output_type": "stream",
       "stream": "stdout",
       "text": [
        "\n",
        "importing scipy.interpolate on engine(s)"
       ]
      },
      {
       "output_type": "stream",
       "stream": "stdout",
       "text": [
        "\n",
        "importing sklearn.ensemble on engine(s)"
       ]
      },
      {
       "output_type": "stream",
       "stream": "stdout",
       "text": [
        "\n"
       ]
      }
     ],
     "prompt_number": 4
    },
    {
     "cell_type": "code",
     "collapsed": false,
     "input": [
      "assets = ['SCHA','SCHB','SCHC']    #Define list of assets to evaluate\n",
      "PredictionHorizon = 7              #PredictionHorizon in calendar days\n",
      "threshold = 0.01\n",
      "#start_dt =datetime.datetime.now() - dateutil.relativedelta.relativedelta(years=7)     # start date of price history\n",
      "start_dt = datetime.datetime(2007,1,1)  # start date of price history\n",
      "end_dt = datetime.datetime.now()      # end date of price history"
     ],
     "language": "python",
     "metadata": {},
     "outputs": [],
     "prompt_number": 5
    },
    {
     "cell_type": "code",
     "collapsed": false,
     "input": [],
     "language": "python",
     "metadata": {},
     "outputs": [],
     "prompt_number": 5
    },
    {
     "cell_type": "code",
     "collapsed": false,
     "input": [],
     "language": "python",
     "metadata": {},
     "outputs": [],
     "prompt_number": 5
    },
    {
     "cell_type": "code",
     "collapsed": false,
     "input": [],
     "language": "python",
     "metadata": {},
     "outputs": [],
     "prompt_number": 5
    },
    {
     "cell_type": "code",
     "collapsed": false,
     "input": [],
     "language": "python",
     "metadata": {},
     "outputs": [],
     "prompt_number": 5
    },
    {
     "cell_type": "code",
     "collapsed": false,
     "input": [],
     "language": "python",
     "metadata": {},
     "outputs": [],
     "prompt_number": 5
    },
    {
     "cell_type": "code",
     "collapsed": false,
     "input": [],
     "language": "python",
     "metadata": {},
     "outputs": [],
     "prompt_number": 5
    },
    {
     "cell_type": "code",
     "collapsed": false,
     "input": [],
     "language": "python",
     "metadata": {},
     "outputs": [],
     "prompt_number": 5
    },
    {
     "cell_type": "code",
     "collapsed": false,
     "input": [],
     "language": "python",
     "metadata": {},
     "outputs": []
    }
   ],
   "metadata": {}
  }
 ]
}